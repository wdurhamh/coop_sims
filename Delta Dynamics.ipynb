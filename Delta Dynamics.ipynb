{
 "cells": [
  {
   "cell_type": "code",
   "execution_count": 1,
   "metadata": {
    "collapsed": true
   },
   "outputs": [],
   "source": [
    "#imports\n",
    "import numpy as np\n",
    "import pandas as pd\n",
    "import matplotlib.pyplot as plt\n",
    "from scipy.integrate import odeint\n",
    "%matplotlib inline"
   ]
  },
  {
   "cell_type": "code",
   "execution_count": 57,
   "metadata": {
    "collapsed": false
   },
   "outputs": [],
   "source": [
    "#linear demand\n",
    "    \n",
    "A = [[-3, -2],[-1, -3]]\n",
    "B = [6,6]\n",
    "#create dynamics\n",
    "#vector: x1, x2, dx2, beta\n",
    "#let's just use list\n",
    "#!!!!I think the issue right now is with the signs!!!!\n",
    "def dynamics(state, t):\n",
    "    beta = .5\n",
    "    state_dot = [0,0,0]\n",
    "    state_dot[0] = 2*A[0][0]*state[0] + A[0][1]*(state[1] + state[2]) + B[0]\n",
    "    #might need to look at sign for state[2]\n",
    "    state_dot[1] = 2*A[1][1]*(state[1] + state[2] ) + A[1][0]*state[0] + B[1]\n",
    "    \n",
    "    #delta x dynamics - probably need to sign check so that he only shifts in the right direction\n",
    "    #he know if he shifts the other way, the other guy won't be able to pay\n",
    "    p1_surp = beta*state[2]*state[0]*A[0][1]\n",
    "    if p1_surp < 0:\n",
    "        state_dot[2] = -2*state[2]\n",
    "    else:\n",
    "        marginal_change_in_sidepayment = beta*A[0][1]*state[0]\n",
    "        state_dot[2] = marginal_change_in_sidepayment\n",
    "        marginal_change_in_profits = 2*A[1][1]*(state[1] + state[2] ) + A[1][0]*state[0] + B[1]\n",
    "        #if marginal change in profits is same sign as marginal change in sidepayment, disregaurd\n",
    "        #that way we're looking strictly at gains and losses due to cooperation.\n",
    "        #Including it would be incorporating gains due to price shift, not cooperation\n",
    "        if np.sign(marginal_change_in_sidepayment) != np.sign(marginal_change_in_profits) :\n",
    "            state_dot[2] += marginal_change_in_profits\n",
    "        \n",
    "        \n",
    "    #beta dyanmics\n",
    "    #for the moment, pretend beta is fixe and lets see if we can get delta x to do what we want\n",
    "    #if state[2]*A[0][1] <= 0:\n",
    "        #state_dot[3] = -2*state_dot[3]\n",
    "    #else:\n",
    "        #dx_opt = (state[3]*A[0][1]*state[0] - A[1][0]*state[0] - 2*A[1][1]*state[1] - B[1])/(4*A[1][1])\n",
    "        #state_dot[3] = A[0][1]*state[0]*dx_opt - (1-state[3])*((A[0][1]*state[0])**2)/(4*A[1][1])\n",
    "    \n",
    "    #state_dot[3] = 0\n",
    "    \n",
    "    #check bounds\n",
    "    if state[0] <=0 and state_dot[0] < 0:\n",
    "        state_dot[0] = 0\n",
    "    if state[1] <=0 and state_dot[1] < 0:\n",
    "        state_dot[1] = 0\n",
    "    if (state[1] + state[2]) <= 0 and (state_dot[1] + state_dot[2]) < 0:\n",
    "        state_dot[2] = 0\n",
    "    if state_dot[2] == -1*state_dot[1]:\n",
    "        state_dot[2] = 0\n",
    "        state_dot[1] = 0\n",
    "    return state_dot\n",
    "    "
   ]
  },
  {
   "cell_type": "code",
   "execution_count": 60,
   "metadata": {
    "collapsed": false
   },
   "outputs": [],
   "source": [
    "x0 = [0,0,0]\n",
    "#x0 = [12/17,15/17,.1,.1]\n",
    "t = np.linspace(0.0, 4.0, 2000)\n",
    "x = odeint(dynamics, x0, t)"
   ]
  },
  {
   "cell_type": "code",
   "execution_count": 61,
   "metadata": {
    "collapsed": false
   },
   "outputs": [],
   "source": [
    "df = pd.DataFrame(x)\n",
    "df.columns = ['Price 1', 'Price 2', 'Delta Price 2']\n",
    "df['Price 2 Net'] = df['Price 2'] + df['Delta Price 2']\n",
    "df['p1 surplus'] = df['Delta Price 2']*df['Price 1']*A[0][1]\n",
    "\n",
    "df['Profit 1'] = df['Price 1']*(A[0][0]*df['Price 1'] + A[0][1]*df['Price 2'] + B[0])\n",
    "df['Profit 2'] = df['Price 2 Net']*(A[1][1]*df['Price 2 Net'] + A[1][0]*df['Price 1'] + B[1])\n",
    "df['Total 1'] = df['Profit 1']  + (1 - .5)*df['p1 surplus']\n",
    "df['Total 2'] = df['Profit 2'] + .5*df['p1 surplus']\n",
    "df['Social Welfare'] = df['Profit 1'] + df['Profit 2']\n",
    "\n"
   ]
  },
  {
   "cell_type": "code",
   "execution_count": 62,
   "metadata": {
    "collapsed": false
   },
   "outputs": [
    {
     "data": {
      "text/plain": [
       "<matplotlib.axes._subplots.AxesSubplot at 0x113a59a50>"
      ]
     },
     "execution_count": 62,
     "metadata": {},
     "output_type": "execute_result"
    },
    {
     "data": {
      "image/png": "[encoded data removed]",
      "text/plain": [
       "<matplotlib.figure.Figure at 0x113a59510>"
      ]
     },
     "metadata": {},
     "output_type": "display_data"
    }
   ],
   "source": [
    "df[['Social Welfare', 'Total 1', 'Total 2']].plot()"
   ]
  },
  {
   "cell_type": "code",
   "execution_count": 52,
   "metadata": {
    "collapsed": false
   },
   "outputs": [
    {
     "data": {
      "text/plain": [
       "(0, 0.6)"
      ]
     },
     "execution_count": 52,
     "metadata": {},
     "output_type": "execute_result"
    },
    {
     "data": {
      "image/png": "[encoded data removed]",
      "text/plain": [
       "<matplotlib.figure.Figure at 0x113558610>"
      ]
     },
     "metadata": {},
     "output_type": "display_data"
    }
   ],
   "source": [
    "df[['Delta Price 2', 'Beta']].plot()\n",
    "plt.ylim([0,.6])"
   ]
  },
  {
   "cell_type": "code",
   "execution_count": 63,
   "metadata": {
    "collapsed": false
   },
   "outputs": [
    {
     "data": {
      "text/plain": [
       "<matplotlib.axes._subplots.AxesSubplot at 0x1137ec0d0>"
      ]
     },
     "execution_count": 63,
     "metadata": {},
     "output_type": "execute_result"
    },
    {
     "data": {
      "image/png": "[encoded data removed]",
      "text/plain": [
       "<matplotlib.figure.Figure at 0x113543210>"
      ]
     },
     "metadata": {},
     "output_type": "display_data"
    }
   ],
   "source": [
    "df[['Price 1', 'Price 2']].plot()"
   ]
  },
  {
   "cell_type": "code",
   "execution_count": null,
   "metadata": {
    "collapsed": true
   },
   "outputs": [],
   "source": []
  }
 ],
 "metadata": {
  "kernelspec": {
   "display_name": "Python 2",
   "language": "python",
   "name": "python2"
  },
  "language_info": {
   "codemirror_mode": {
    "name": "ipython",
    "version": 2
   },
   "file_extension": ".py",
   "mimetype": "text/x-python",
   "name": "python",
   "nbconvert_exporter": "python",
   "pygments_lexer": "ipython2",
   "version": "2.7.10"
  }
 },
 "nbformat": 4,
 "nbformat_minor": 0
}
