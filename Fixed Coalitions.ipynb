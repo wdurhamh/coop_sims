{
 "cells": [
  {
   "cell_type": "code",
   "execution_count": 1,
   "metadata": {
    "collapsed": true
   },
   "outputs": [],
   "source": [
    "import numpy as np\n",
    "import matplotlib.pyplot as plt\n",
    "from mpl_toolkits.mplot3d import Axes3D\n",
    "from scipy.integrate import odeint\n",
    "import pandas as pd\n",
    "%matplotlib inline"
   ]
  },
  {
   "cell_type": "code",
   "execution_count": 2,
   "metadata": {
    "collapsed": false
   },
   "outputs": [],
   "source": [
    "A = np.array([[-3, -2],[-1, -3]]).reshape(2,2)\n",
    "B = np.array([6,6]).reshape(2,1)\n",
    "beta = .4\n",
    "D = np.array([[beta, beta],[1-beta, 1-beta]]).reshape(2,2)\n",
    "def fc_dynamics(x, t):\n",
    "    x = x.reshape(2,1)\n",
    "    _A = np.array([[-6*D[0][0], -2*D[0][0] + -1*D[0][1]],[-1*D[1][1] + -2*D[1][0], -6*D[1][1]]]).reshape(2,2)\n",
    "    _B = np.array([D[0][0]*6,D[1][1]*6]).reshape(2,1)\n",
    "    xdot = np.array([0,0]).reshape(2,1)\n",
    "    xdot = np.dot(_A,x) + _B\n",
    "    return xdot.reshape(2)\n",
    "    "
   ]
  },
  {
   "cell_type": "code",
   "execution_count": 7,
   "metadata": {
    "collapsed": false
   },
   "outputs": [
    {
     "data": {
      "image/png": "[encoded data removed]",
      "text/plain": [
       "<matplotlib.figure.Figure at 0x1113fbe50>"
      ]
     },
     "metadata": {},
     "output_type": "display_data"
    }
   ],
   "source": [
    "x_0 = np.array([0,0]).reshape(2)\n",
    "t = np.linspace(0.0, 1.0, 1000)\n",
    "\n",
    "x = odeint( fc_dynamics, x_0 , t )\n",
    "df = pd.DataFrame(x)\n",
    "df.columns=[\"x1\",\"x2\"]\n",
    "df['Profits 1'] = df[\"x1\"]*(A[0][0]*df[\"x1\"] + A[0][1]*df[\"x2\"] + B[0])\n",
    "df['Profits 2'] = df[\"x2\"]*(A[1][0]*df[\"x1\"] + A[1][1]*df[\"x2\"] + B[1])\n",
    "df['v1'] = beta*df['Profits 1'] + beta*df['Profits 2']\n",
    "df['v2'] = (1-beta)*df['Profits 1'] + (1 - beta)*df['Profits 2']\n",
    "df['Social Welfare'] = df[\"Profits 1\"] + df[\"Profits 2\"]\n",
    "ax = df[[\"v1\", \"v2\", \"Social Welfare\"]].plot(title=\"Fixed Cooperation\")\n",
    "ax.set_ylabel(\"Dollars\")\n",
    "ax.set_xlabel(\"Time\")\n",
    "ax.set_ylim([0,4.5])\n",
    "plt.savefig(\"Fixed Cooperation\")"
   ]
  },
  {
   "cell_type": "code",
   "execution_count": 6,
   "metadata": {
    "collapsed": false
   },
   "outputs": [
    {
     "name": "stdout",
     "output_type": "stream",
     "text": [
      "999    1.597225\n",
      "Name: u1, dtype: float64 \n",
      "999    2.395838\n",
      "Name: u2, dtype: float64\n"
     ]
    }
   ],
   "source": [
    "print df['u1'].tail(1), '\\n', df['u2'].tail(1)"
   ]
  },
  {
   "cell_type": "code",
   "execution_count": 7,
   "metadata": {
    "collapsed": false
   },
   "outputs": [
    {
     "name": "stdout",
     "output_type": "stream",
     "text": [
      "999    3.993063\n",
      "dtype: float64\n"
     ]
    }
   ],
   "source": [
    "print df['Profits 1'].tail(1) +  df['Profits 2'].tail(1)"
   ]
  },
  {
   "cell_type": "code",
   "execution_count": 8,
   "metadata": {
    "collapsed": false
   },
   "outputs": [
    {
     "name": "stdout",
     "output_type": "stream",
     "text": [
      "999    3.993063\n",
      "Name: Social Welfare, dtype: float64\n"
     ]
    }
   ],
   "source": [
    "print df['Social Welfare'].tail(1)"
   ]
  },
  {
   "cell_type": "code",
   "execution_count": 9,
   "metadata": {
    "collapsed": false
   },
   "outputs": [
    {
     "name": "stdout",
     "output_type": "stream",
     "text": [
      "3.99306314107\n"
     ]
    }
   ],
   "source": [
    "print df['Social Welfare'].max()"
   ]
  },
  {
   "cell_type": "code",
   "execution_count": 10,
   "metadata": {
    "collapsed": false
   },
   "outputs": [],
   "source": [
    "#fixed coalition with option to opt out at any moment\n",
    "# note that, given the option, the players here always go non-cooperative\n",
    "#Each player gets increases more per turn if they are selfish\n",
    "A = np.array([[-3, -2],[-1, -3]]).reshape(2,2)\n",
    "B = np.array([6,6]).reshape(2,1)\n",
    "beta = .4\n",
    "D = np.array([[beta, beta],[1-beta, 1-beta]]).reshape(2,2)\n",
    "def oc_dynamics(x, t):\n",
    "    x = x.reshape(2,1)\n",
    "    #marginal gains to utility if they continue to cooperate\n",
    "    _A = np.array([[-6*D[0][0], -2*D[0][0] + -1*D[0][1]],[-1*D[1][1] + -2*D[1][0], -6*D[1][1]]]).reshape(2,2)\n",
    "    _B = np.array([D[0][0]*6,D[1][1]*6]).reshape(2,1)\n",
    "    xdot = np.array([0,0]).reshape(2,1)\n",
    "    xdot = np.dot(_A,x) + _B\n",
    "    \n",
    "    #marginal gains to utility if they were to go it on their own. For simpliciy, assume if one is out, they're both out\n",
    "    NCA = np.array([[-6, -2],[-1, -6]]).reshape(2,2)\n",
    "    NCxdot = np.array([0,0]).reshape(2,1)\n",
    "    NCxdot = np.dot(NCA,x) + B\n",
    "    #drop dif from no longer cooperating\n",
    "    pi = np.dot(np.diag(x.reshape(2)),(np.dot(A,x) + B))\n",
    "    dif0 = pi[0] - beta*(pi[0] + pi[1])\n",
    "    dif1 = pi[1] - (1 - beta)*(pi[0] + pi[1])\n",
    "    #print dif1\n",
    "    \n",
    "    #need to scale these before taking the max\n",
    "    if xdot[0] < (NCxdot[0] + dif0) or xdot[1] < (NCxdot[1] + dif1):\n",
    "        #print 'ind'\n",
    "        xdot = NCxdot\n",
    "    \n",
    "    #put celing on x\n",
    "    if x[0] <=0 and xdot[0] <=0:\n",
    "        xdot[0] = 0\n",
    "    if x[1] <=0 and xdot[1] <=0:\n",
    "        xdot[1] = 0\n",
    "#    print xdot\n",
    "    return xdot.reshape(2)\n",
    "    "
   ]
  },
  {
   "cell_type": "code",
   "execution_count": 11,
   "metadata": {
    "collapsed": false
   },
   "outputs": [
    {
     "data": {
      "image/png": "[encoded data removed]",
      "text/plain": [
       "<matplotlib.figure.Figure at 0x110d03250>"
      ]
     },
     "metadata": {},
     "output_type": "display_data"
    }
   ],
   "source": [
    "x_0 = np.array([0,0]).reshape(2)\n",
    "t = np.linspace(0.0, 5.0, 10000)\n",
    "\n",
    "x = odeint( oc_dynamics, x_0 , t )\n",
    "df = pd.DataFrame(x)\n",
    "df.columns=[\"x1\",\"x2\"]\n",
    "df['Profits 1'] = df[\"x1\"]*(A[0][0]*df[\"x1\"] + A[0][1]*df[\"x2\"] + B[0])\n",
    "df['Profits 2'] = df[\"x2\"]*(A[1][0]*df[\"x1\"] + A[1][1]*df[\"x2\"] + B[1])\n",
    "df['u1'] = beta*df['Profits 1'] + beta*df['Profits 2']\n",
    "df['u2'] = (1-beta)*df['Profits 1'] + (1 - beta)*df['Profits 2']\n",
    "df['Social Welfare'] = df[\"Profits 1\"] + df[\"Profits 2\"]\n",
    "df[[\"Profits 1\", \"Profits 2\", \"Social Welfare\"]].plot(title=\"Optional Cooperation\")\n",
    "plt.savefig(\"Optionaly Cooperative\")"
   ]
  },
  {
   "cell_type": "code",
   "execution_count": 12,
   "metadata": {
    "collapsed": false
   },
   "outputs": [
    {
     "data": {
      "text/plain": [
       "<matplotlib.axes._subplots.AxesSubplot at 0x110ce2b50>"
      ]
     },
     "execution_count": 12,
     "metadata": {},
     "output_type": "execute_result"
    },
    {
     "data": {
      "image/png": "[encoded data removed]",
      "text/plain": [
       "<matplotlib.figure.Figure at 0x103ad6f50>"
      ]
     },
     "metadata": {},
     "output_type": "display_data"
    }
   ],
   "source": [
    "df[['u1', 'u2']].plot()"
   ]
  },
  {
   "cell_type": "code",
   "execution_count": 13,
   "metadata": {
    "collapsed": false
   },
   "outputs": [
    {
     "name": "stdout",
     "output_type": "stream",
     "text": [
      "9995    1.53218\n",
      "9996    1.53218\n",
      "9997    1.53218\n",
      "9998    1.53218\n",
      "9999    1.53218\n",
      "Name: u1, dtype: float64 \n",
      "9995    2.29827\n",
      "9996    2.29827\n",
      "9997    2.29827\n",
      "9998    2.29827\n",
      "9999    2.29827\n",
      "Name: u2, dtype: float64\n"
     ]
    }
   ],
   "source": [
    "print df['u1'].tail(), '\\n', df['u2'].tail()"
   ]
  },
  {
   "cell_type": "code",
   "execution_count": 14,
   "metadata": {
    "collapsed": false
   },
   "outputs": [
    {
     "data": {
      "text/plain": [
       "<matplotlib.axes._subplots.AxesSubplot at 0x110fd25d0>"
      ]
     },
     "execution_count": 14,
     "metadata": {},
     "output_type": "execute_result"
    },
    {
     "data": {
      "image/png": "[encoded data removed]",
      "text/plain": [
       "<matplotlib.figure.Figure at 0x11100c8d0>"
      ]
     },
     "metadata": {},
     "output_type": "display_data"
    }
   ],
   "source": [
    "df[['x1','x2']].plot()"
   ]
  },
  {
   "cell_type": "code",
   "execution_count": null,
   "metadata": {
    "collapsed": true
   },
   "outputs": [],
   "source": []
  }
 ],
 "metadata": {
  "kernelspec": {
   "display_name": "Python 2",
   "language": "python",
   "name": "python2"
  },
  "language_info": {
   "codemirror_mode": {
    "name": "ipython",
    "version": 2
   },
   "file_extension": ".py",
   "mimetype": "text/x-python",
   "name": "python",
   "nbconvert_exporter": "python",
   "pygments_lexer": "ipython2",
   "version": "2.7.10"
  }
 },
 "nbformat": 4,
 "nbformat_minor": 0
}
