{
 "cells": [
  {
   "cell_type": "code",
   "execution_count": 117,
   "metadata": {
    "collapsed": true
   },
   "outputs": [],
   "source": [
    "import pandas as pd\n",
    "import numpy as np\n",
    "import matplotlib.pyplot as plt\n",
    "from scipy.integrate import odeint\n",
    "\n",
    "%matplotlib inline"
   ]
  },
  {
   "cell_type": "code",
   "execution_count": 118,
   "metadata": {
    "collapsed": false
   },
   "outputs": [],
   "source": [
    "\"\"\"\n",
    "    Define market with linear demand.\n",
    "    Market is characterized by demand function, which is characterized by A and b\n",
    "    Right now we assume a simplt to player market.\n",
    "\"\"\"\n",
    "n = 2\n",
    "A = np.matrix('-3 -2; -1, -3')\n",
    "B = np.matrix('6;6')"
   ]
  },
  {
   "cell_type": "code",
   "execution_count": 162,
   "metadata": {
    "collapsed": false
   },
   "outputs": [],
   "source": [
    "\"\"\"\n",
    "    Describes the evolition of the system.\n",
    "    Here x1 and barx2 evolve by only looking at indiviudal profits\n",
    "    dx2 evolves to maximize difference between sidepayment and losses.\n",
    "    beta evolves to with the loose assumption that deltax2 is at opitmum,\n",
    "        which allows for a single expression for (d dx2/d beta)\n",
    "    Vector order [x1, barx2, dx2, beta]\n",
    "\"\"\"\n",
    "def dynamics( x, t ):\n",
    "    x = np.matrix(x).T\n",
    "    J = np.matrix('-6 -2 0 0; -1 -6 0 0')\n",
    "    x_dot = J*x + B\n",
    "\n",
    "    #constant factor\n",
    "    c = 20\n",
    "    dx2_dot = x[3]*A[0,1]*x[0] + (2*A[1,1]*(x[1] + x[2]) + A[1,0]*x[1] + B[1] )\n",
    "    dx2_opt = ( x[2]*A[0,1]*x[0] + (2*A[1,1]*x[1] + A[1,0]*x[0] + B[1]) )/(-2*A[1,1])\n",
    "    #dx2_opt = 1\n",
    "    beta_dot = -1*(1-x[3])*((A[0,1]*x[0])**2)*dx2_opt/(2*A[1,1])\n",
    "    x_dot = x_dot.reshape(2,).tolist()[0]\n",
    "    x_dot.append(c*dx2_dot[0,0])\n",
    "    x_dot.append(c*beta_dot[0,0])\n",
    "    #x_dot[2] = 0\n",
    "    #x_dot[3] = 0\n",
    "    #print x_dot\n",
    "    \n",
    "    #check limits (though I don't think these should be necessary)\n",
    "    #check that beta is between 0 and 1\n",
    "    if x[3] >= 1 and x_dot[3] > 0:\n",
    "        x_dot[3] = 0\n",
    "    if x[3] <= 0 and x_dot[3] < 0:\n",
    "        x_dot[3] = 0\n",
    "    #make sure delta is not greater than x2\n",
    "    #perhaps here we need to think of coeficients\n",
    "    if (x[1] + x[2]) <=0 and ( x_dot[2] + x_dot[1] ) < 0:\n",
    "        x_dot[2] = 0\n",
    "    #print x_dot, x\n",
    "    return x_dot"
   ]
  },
  {
   "cell_type": "code",
   "execution_count": 163,
   "metadata": {
    "collapsed": false
   },
   "outputs": [],
   "source": [
    "#x0 = [0,0,0,0]\n",
    "x0 = [12.0/17,15.0/17,0,0]\n",
    "\n",
    "t = np.linspace(0.0, 17, 14000)\n",
    "x = odeint(dynamics, x0, t)"
   ]
  },
  {
   "cell_type": "code",
   "execution_count": 164,
   "metadata": {
    "collapsed": false
   },
   "outputs": [
    {
     "data": {
      "text/plain": [
       "<matplotlib.axes._subplots.AxesSubplot at 0x11e35f790>"
      ]
     },
     "execution_count": 164,
     "metadata": {},
     "output_type": "execute_result"
    },
    {
     "data": {
      "image/png": "[encoded data removed]",
      "text/plain": [
       "<matplotlib.figure.Figure at 0x11e1ee090>"
      ]
     },
     "metadata": {},
     "output_type": "display_data"
    }
   ],
   "source": [
    "df = pd.DataFrame(x)\n",
    "df.columns = ['x1', 'barx2', 'dx2', 'beta']\n",
    "df[['x1', 'barx2']].plot()"
   ]
  },
  {
   "cell_type": "code",
   "execution_count": 165,
   "metadata": {
    "collapsed": false
   },
   "outputs": [],
   "source": [
    "df['x2'] = df['barx2'] + df['dx2']\n",
    "df['p1sur'] = (df['x1']*A[0,1]*df['dx2'])\n",
    "df['Pi1NC']  = df['x1']*(A[0,0]*df['x1'] + A[0,1]*df['barx2'] + B[0,0])"
   ]
  },
  {
   "cell_type": "code",
   "execution_count": 166,
   "metadata": {
    "collapsed": false
   },
   "outputs": [],
   "source": [
    "df['V1'] = df['Pi1NC'] + (1 - df['beta'])*df['p1sur']\n",
    "df['V2'] = df['x2']*(A[1,0]*df['x1'] + A[1,1]*df['x2'] + B[1,0]) + df['beta']*(df['p1sur'])\n",
    "df['sw'] = df['V1'] + df['V2']"
   ]
  },
  {
   "cell_type": "code",
   "execution_count": 167,
   "metadata": {
    "collapsed": false
   },
   "outputs": [
    {
     "data": {
      "text/plain": [
       "<matplotlib.axes._subplots.AxesSubplot at 0x11e80b790>"
      ]
     },
     "execution_count": 167,
     "metadata": {},
     "output_type": "execute_result"
    },
    {
     "data": {
      "image/png": "[encoded data removed]",
      "text/plain": [
       "<matplotlib.figure.Figure at 0x11e296990>"
      ]
     },
     "metadata": {},
     "output_type": "display_data"
    }
   ],
   "source": [
    "df[['V1', 'V2', 'sw']].plot()"
   ]
  },
  {
   "cell_type": "code",
   "execution_count": 168,
   "metadata": {
    "collapsed": false
   },
   "outputs": [
    {
     "data": {
      "text/plain": [
       "<matplotlib.axes._subplots.AxesSubplot at 0x11e310bd0>"
      ]
     },
     "execution_count": 168,
     "metadata": {},
     "output_type": "execute_result"
    },
    {
     "data": {
      "image/png": "[encoded data removed]",
      "text/plain": [
       "<matplotlib.figure.Figure at 0x11e31d250>"
      ]
     },
     "metadata": {},
     "output_type": "display_data"
    }
   ],
   "source": [
    "df[['beta', 'dx2']].plot()"
   ]
  },
  {
   "cell_type": "code",
   "execution_count": 169,
   "metadata": {
    "collapsed": false
   },
   "outputs": [
    {
     "data": {
      "text/plain": [
       "<matplotlib.axes._subplots.AxesSubplot at 0x11ec72e90>"
      ]
     },
     "execution_count": 169,
     "metadata": {},
     "output_type": "execute_result"
    },
    {
     "data": {
      "image/png": "[encoded data removed]",
      "text/plain": [
       "<matplotlib.figure.Figure at 0x11ecc6250>"
      ]
     },
     "metadata": {},
     "output_type": "display_data"
    }
   ],
   "source": [
    "df['p1sur'].plot()"
   ]
  },
  {
   "cell_type": "code",
   "execution_count": 172,
   "metadata": {
    "collapsed": false
   },
   "outputs": [
    {
     "name": "stdout",
     "output_type": "stream",
     "text": [
      "             V1        V2        sw     p1sur      beta       dx2        x2  \\\n",
      "13996  1.497768  2.496498  3.994266  0.371045  0.992028 -0.262824  0.619529   \n",
      "13997  1.497766  2.496500  3.994266  0.371046  0.992032 -0.262825  0.619528   \n",
      "13998  1.497765  2.496501  3.994266  0.371048  0.992036 -0.262826  0.619527   \n",
      "13999  1.497763  2.496502  3.994266  0.371049  0.992040 -0.262826  0.619526   \n",
      "\n",
      "             x1  \n",
      "13996  0.705882  \n",
      "13997  0.705882  \n",
      "13998  0.705882  \n",
      "13999  0.705882  \n"
     ]
    }
   ],
   "source": [
    "print df[['V1', 'V2', 'sw', 'p1sur', 'beta', 'dx2', 'x2', 'x1']].tail(4)"
   ]
  },
  {
   "cell_type": "code",
   "execution_count": 171,
   "metadata": {
    "collapsed": false
   },
   "outputs": [
    {
     "name": "stdout",
     "output_type": "stream",
     "text": [
      "0.666666666667\n"
     ]
    }
   ],
   "source": [
    "print 2.0/3"
   ]
  },
  {
   "cell_type": "code",
   "execution_count": null,
   "metadata": {
    "collapsed": true
   },
   "outputs": [],
   "source": []
  }
 ],
 "metadata": {
  "kernelspec": {
   "display_name": "Python 2",
   "language": "python",
   "name": "python2"
  },
  "language_info": {
   "codemirror_mode": {
    "name": "ipython",
    "version": 2
   },
   "file_extension": ".py",
   "mimetype": "text/x-python",
   "name": "python",
   "nbconvert_exporter": "python",
   "pygments_lexer": "ipython2",
   "version": "2.7.10"
  }
 },
 "nbformat": 4,
 "nbformat_minor": 0
}
