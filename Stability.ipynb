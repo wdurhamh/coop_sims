{
 "cells": [
  {
   "cell_type": "code",
   "execution_count": 1,
   "metadata": {
    "collapsed": true
   },
   "outputs": [],
   "source": [
    "from sympy import *"
   ]
  },
  {
   "cell_type": "code",
   "execution_count": 2,
   "metadata": {
    "collapsed": true
   },
   "outputs": [],
   "source": [
    "a11 = Symbol('a11')\n",
    "a12 = Symbol('a12')\n",
    "a21 = Symbol('a21')\n",
    "a22 = Symbol('a22')\n",
    "x = Symbol('x')\n",
    "y = Symbol('y')\n",
    "z = Symbol('z')\n",
    "\n",
    "m = Matrix([[2*a11, a12, 0],[a21, 2*a22, x],[y, 0, z]])"
   ]
  },
  {
   "cell_type": "code",
   "execution_count": 3,
   "metadata": {
    "collapsed": false
   },
   "outputs": [
    {
     "name": "stdout",
     "output_type": "stream",
     "text": [
      "{2*a11/3 + 2*a22/3 + z/3 + (4*a11*a22/3 + 2*a11*z/3 - a12*a21/3 + 2*a22*z/3 - (-2*a11 - 2*a22 - z)**2/9)/((-1/2 + sqrt(3)*I/2)*(-2*a11*a22*z + a12*a21*z/2 - a12*x*y/2 + sqrt((4*a11*a22/3 + 2*a11*z/3 - a12*a21/3 + 2*a22*z/3 - (-2*a11 - 2*a22 - z)**2/9)**3 + (-4*a11*a22*z + a12*a21*z - a12*x*y + 2*(-2*a11 - 2*a22 - z)**3/27 - (-2*a11 - 2*a22 - z)*(4*a11*a22 + 2*a11*z - a12*a21 + 2*a22*z)/3)**2/4) + (-2*a11 - 2*a22 - z)**3/27 - (-2*a11 - 2*a22 - z)*(4*a11*a22 + 2*a11*z - a12*a21 + 2*a22*z)/6)**(1/3)) - (-1/2 + sqrt(3)*I/2)*(-2*a11*a22*z + a12*a21*z/2 - a12*x*y/2 + sqrt((4*a11*a22/3 + 2*a11*z/3 - a12*a21/3 + 2*a22*z/3 - (-2*a11 - 2*a22 - z)**2/9)**3 + (-4*a11*a22*z + a12*a21*z - a12*x*y + 2*(-2*a11 - 2*a22 - z)**3/27 - (-2*a11 - 2*a22 - z)*(4*a11*a22 + 2*a11*z - a12*a21 + 2*a22*z)/3)**2/4) + (-2*a11 - 2*a22 - z)**3/27 - (-2*a11 - 2*a22 - z)*(4*a11*a22 + 2*a11*z - a12*a21 + 2*a22*z)/6)**(1/3): 1, 2*a11/3 + 2*a22/3 + z/3 + (4*a11*a22/3 + 2*a11*z/3 - a12*a21/3 + 2*a22*z/3 - (-2*a11 - 2*a22 - z)**2/9)/(-2*a11*a22*z + a12*a21*z/2 - a12*x*y/2 + sqrt((4*a11*a22/3 + 2*a11*z/3 - a12*a21/3 + 2*a22*z/3 - (-2*a11 - 2*a22 - z)**2/9)**3 + (-4*a11*a22*z + a12*a21*z - a12*x*y + 2*(-2*a11 - 2*a22 - z)**3/27 - (-2*a11 - 2*a22 - z)*(4*a11*a22 + 2*a11*z - a12*a21 + 2*a22*z)/3)**2/4) + (-2*a11 - 2*a22 - z)**3/27 - (-2*a11 - 2*a22 - z)*(4*a11*a22 + 2*a11*z - a12*a21 + 2*a22*z)/6)**(1/3) - (-2*a11*a22*z + a12*a21*z/2 - a12*x*y/2 + sqrt((4*a11*a22/3 + 2*a11*z/3 - a12*a21/3 + 2*a22*z/3 - (-2*a11 - 2*a22 - z)**2/9)**3 + (-4*a11*a22*z + a12*a21*z - a12*x*y + 2*(-2*a11 - 2*a22 - z)**3/27 - (-2*a11 - 2*a22 - z)*(4*a11*a22 + 2*a11*z - a12*a21 + 2*a22*z)/3)**2/4) + (-2*a11 - 2*a22 - z)**3/27 - (-2*a11 - 2*a22 - z)*(4*a11*a22 + 2*a11*z - a12*a21 + 2*a22*z)/6)**(1/3): 1, 2*a11/3 + 2*a22/3 + z/3 + (4*a11*a22/3 + 2*a11*z/3 - a12*a21/3 + 2*a22*z/3 - (-2*a11 - 2*a22 - z)**2/9)/((-1/2 - sqrt(3)*I/2)*(-2*a11*a22*z + a12*a21*z/2 - a12*x*y/2 + sqrt((4*a11*a22/3 + 2*a11*z/3 - a12*a21/3 + 2*a22*z/3 - (-2*a11 - 2*a22 - z)**2/9)**3 + (-4*a11*a22*z + a12*a21*z - a12*x*y + 2*(-2*a11 - 2*a22 - z)**3/27 - (-2*a11 - 2*a22 - z)*(4*a11*a22 + 2*a11*z - a12*a21 + 2*a22*z)/3)**2/4) + (-2*a11 - 2*a22 - z)**3/27 - (-2*a11 - 2*a22 - z)*(4*a11*a22 + 2*a11*z - a12*a21 + 2*a22*z)/6)**(1/3)) - (-1/2 - sqrt(3)*I/2)*(-2*a11*a22*z + a12*a21*z/2 - a12*x*y/2 + sqrt((4*a11*a22/3 + 2*a11*z/3 - a12*a21/3 + 2*a22*z/3 - (-2*a11 - 2*a22 - z)**2/9)**3 + (-4*a11*a22*z + a12*a21*z - a12*x*y + 2*(-2*a11 - 2*a22 - z)**3/27 - (-2*a11 - 2*a22 - z)*(4*a11*a22 + 2*a11*z - a12*a21 + 2*a22*z)/3)**2/4) + (-2*a11 - 2*a22 - z)**3/27 - (-2*a11 - 2*a22 - z)*(4*a11*a22 + 2*a11*z - a12*a21 + 2*a22*z)/6)**(1/3): 1}\n"
     ]
    }
   ],
   "source": [
    "print m.eigenvals()"
   ]
  },
  {
   "cell_type": "code",
   "execution_count": null,
   "metadata": {
    "collapsed": true
   },
   "outputs": [],
   "source": []
  }
 ],
 "metadata": {
  "kernelspec": {
   "display_name": "Python 2",
   "language": "python",
   "name": "python2"
  },
  "language_info": {
   "codemirror_mode": {
    "name": "ipython",
    "version": 2
   },
   "file_extension": ".py",
   "mimetype": "text/x-python",
   "name": "python",
   "nbconvert_exporter": "python",
   "pygments_lexer": "ipython2",
   "version": "2.7.10"
  }
 },
 "nbformat": 4,
 "nbformat_minor": 0
}
