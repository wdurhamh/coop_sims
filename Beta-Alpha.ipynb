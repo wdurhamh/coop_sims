{
 "cells": [
  {
   "cell_type": "code",
   "execution_count": 2,
   "metadata": {
    "collapsed": false
   },
   "outputs": [],
   "source": [
    "import pandas as pd\n",
    "import numpy as np\n",
    "import matplotlib.pyplot as plt\n",
    "from scipy.integrate import odeint\n",
    "\n",
    "%matplotlib inline"
   ]
  },
  {
   "cell_type": "code",
   "execution_count": 3,
   "metadata": {
    "collapsed": false
   },
   "outputs": [],
   "source": [
    "\"\"\"\n",
    "    Define market with linear demand.\n",
    "    Market is characterized by demand function, which is characterized by A and b\n",
    "    Right now we assume a simplt to player market.\n",
    "\"\"\"\n",
    "n = 2\n",
    "A = np.matrix('-3 -2; -1, -3')\n",
    "B = np.matrix('6;6')"
   ]
  },
  {
   "cell_type": "code",
   "execution_count": 4,
   "metadata": {
    "collapsed": false
   },
   "outputs": [],
   "source": [
    "\"\"\"\n",
    "    Describes the evolition of the system.\n",
    "    Here x1 and barx2 evolve by only looking at indiviudal profits\n",
    "    dx2 evolves to maximize difference between sidepayment and losses.\n",
    "    beta evolves to with the loose assumption that deltax2 is at opitmum,\n",
    "        which allows for a single expression for (d dx2/d beta)\n",
    "    Vector order [barx1, barx2, dx2, beta, dx1, alpha]\n",
    "\"\"\"\n",
    "def dynamics( x, t ):\n",
    "    x = np.matrix(x).T\n",
    "    J = np.matrix('-6 -2 0 0 0 0; -1 -6 0 0 0 0')\n",
    "    x_dot = J*x + B\n",
    "    barx1 = x[0]\n",
    "    barx2 = x[1]\n",
    "    dx2 = x[2]\n",
    "    beta = x[3]\n",
    "    dx1 = x[4]\n",
    "    alpha = x[5]\n",
    "    x1 = barx1 + dx1\n",
    "    x2 = barx2 + dx2\n",
    "\n",
    "    dx1_dot = alpha*A[1,0]*x2 + (2*A[0,0]*x1 + A[0,1]*x2 + B[0] )\n",
    "    dx1_opt = ( alpha*A[1,0]*x2 + (2*A[0,0]*barx1 + A[0,1]*x2 + B[0]) )/(-2*A[0,0])\n",
    "    alpha_dot = -1*(x2*dx1_opt*A[1,0]) + ((A[1,0]*x2)**2)*(1-alpha)/(-2*A[0,0])\n",
    "    \n",
    "    dx2_dot = beta*A[0,1]*x1 + (2*A[1,1]*(x2) + A[1,0]*x1 + B[1] )\n",
    "    dx2_opt = ( x[3]*A[0,1]*x[0] + (2*A[1,1]*x[1] + A[1,0]*x[0] + B[1]) )/(-2*A[1,1])\n",
    "    #dx2_opt = 1\n",
    "    beta_dot = -1*(x[0]*dx2_opt*A[0,1]) + ((A[0,1]*x[0])**2)*(1-x[3])/(-2*A[1,1])\n",
    "    x_dot = x_dot.reshape(2,).tolist()[0]\n",
    "    \n",
    "    #multiplicative constant\n",
    "    c = 1.0\n",
    "    x_dot.append(c*dx2_dot[0,0])\n",
    "    x_dot.append(c*beta_dot[0,0])\n",
    "    x_dot.append(c*dx1_dot[0,0])\n",
    "    x_dot.append(c*alpha_dot[0,0])\n",
    "    \n",
    "    #check limits (though I don't think these should be necessary)\n",
    "    #check that beta is between 0 and 1\n",
    "    if x[3] >= 1 and x_dot[3] > 0:\n",
    "        x_dot[3] = 0\n",
    "    if x[3] <= 0 and x_dot[3] < 0:\n",
    "        x_dot[3] = 0\n",
    "    #make sure delta is not greater than x2\n",
    "    #perhaps here we need to think of coeficients\n",
    "    if (x[1] + x[2]) <=0 and ( x_dot[2] + x_dot[1] ) < 0:\n",
    "        x_dot[2] = 0\n",
    "    #print x_dot, x\n",
    "    return x_dot"
   ]
  },
  {
   "cell_type": "code",
   "execution_count": 29,
   "metadata": {
    "collapsed": false
   },
   "outputs": [],
   "source": [
    "x0 = [0,0,0,0,0,0]\n",
    "#x0 = [12.0/17,15.0/17,0,0]\n",
    "\n",
    "t = np.linspace(0.0, 20, 000)\n",
    "x = odeint(dynamics, x0, t)"
   ]
  },
  {
   "cell_type": "code",
   "execution_count": 30,
   "metadata": {
    "collapsed": false
   },
   "outputs": [
    {
     "data": {
      "text/plain": [
       "<matplotlib.axes._subplots.AxesSubplot at 0x7f4677eb62e8>"
      ]
     },
     "execution_count": 30,
     "metadata": {},
     "output_type": "execute_result"
    },
    {
     "data": {
      "image/png": "[encoded data removed]",
      "text/plain": [
       "<matplotlib.figure.Figure at 0x7f469042e4e0>"
      ]
     },
     "metadata": {},
     "output_type": "display_data"
    }
   ],
   "source": [
    "df = pd.DataFrame(x)\n",
    "df.columns = ['barx1', 'barx2', 'dx2', 'beta', 'dx1', 'alpha']\n",
    "df[['barx1', 'barx2']].plot()"
   ]
  },
  {
   "cell_type": "code",
   "execution_count": 31,
   "metadata": {
    "collapsed": false
   },
   "outputs": [],
   "source": [
    "df['x2'] = df['barx2'] + df['dx2']\n",
    "df['x1'] = df['barx1'] + df['dx1']\n",
    "df['p1sur'] = (df['x1']*A[0,1]*df['dx2'])\n",
    "df['p2sur'] = (df['x2']*A[1,0]*df['dx1'])\n",
    "df['Pi1NC']  = df['x1']*(A[0,0]*df['x1'] + A[0,1]*df['barx2'] + B[0,0])\n",
    "df['Pi2NC']  = df['x2']*(A[1,1]*df['x1'] + A[1,0]*df['barx1'] + B[1,0])"
   ]
  },
  {
   "cell_type": "code",
   "execution_count": 32,
   "metadata": {
    "collapsed": false
   },
   "outputs": [],
   "source": [
    "df['V1'] = df['Pi1NC'] + (1 - df['beta'])*df['p1sur'] + df['alpha']*df['p2sur']\n",
    "df['V2'] = df['Pi2NC'] + (1 - df['alpha'])*df['p2sur'] + df['beta']*(df['p1sur'])\n",
    "df['sw'] = df['V1'] + df['V2']"
   ]
  },
  {
   "cell_type": "code",
   "execution_count": 33,
   "metadata": {
    "collapsed": false
   },
   "outputs": [
    {
     "data": {
      "text/plain": [
       "<matplotlib.axes._subplots.AxesSubplot at 0x7f4677fffbe0>"
      ]
     },
     "execution_count": 33,
     "metadata": {},
     "output_type": "execute_result"
    },
    {
     "data": {
      "image/png": "[encoded data removed]",
      "text/plain": [
       "<matplotlib.figure.Figure at 0x7f4677fd5cc0>"
      ]
     },
     "metadata": {},
     "output_type": "display_data"
    }
   ],
   "source": [
    "df[['V1', 'V2', 'sw']].plot()"
   ]
  },
  {
   "cell_type": "code",
   "execution_count": 34,
   "metadata": {
    "collapsed": false
   },
   "outputs": [
    {
     "data": {
      "text/plain": [
       "<matplotlib.axes._subplots.AxesSubplot at 0x7f4677c44c18>"
      ]
     },
     "execution_count": 34,
     "metadata": {},
     "output_type": "execute_result"
    },
    {
     "data": {
      "image/png": "[encoded data removed]",
      "text/plain": [
       "<matplotlib.figure.Figure at 0x7f4677c55128>"
      ]
     },
     "metadata": {},
     "output_type": "display_data"
    }
   ],
   "source": [
    "df[['beta', 'dx2']].plot()"
   ]
  },
  {
   "cell_type": "code",
   "execution_count": 35,
   "metadata": {
    "collapsed": false
   },
   "outputs": [
    {
     "data": {
      "text/plain": [
       "<matplotlib.axes._subplots.AxesSubplot at 0x7f4677c75630>"
      ]
     },
     "execution_count": 35,
     "metadata": {},
     "output_type": "execute_result"
    },
    {
     "data": {
      "image/png": "[encoded data removed]",
      "text/plain": [
       "<matplotlib.figure.Figure at 0x7f4677c37358>"
      ]
     },
     "metadata": {},
     "output_type": "display_data"
    }
   ],
   "source": [
    "df[['alpha', 'dx1']].plot()"
   ]
  },
  {
   "cell_type": "code",
   "execution_count": 36,
   "metadata": {
    "collapsed": false
   },
   "outputs": [
    {
     "data": {
      "text/plain": [
       "<matplotlib.axes._subplots.AxesSubplot at 0x7f4677be5780>"
      ]
     },
     "execution_count": 36,
     "metadata": {},
     "output_type": "execute_result"
    },
    {
     "data": {
      "image/png": "[encoded data removed]",
      "text/plain": [
       "<matplotlib.figure.Figure at 0x7f4677bad4e0>"
      ]
     },
     "metadata": {},
     "output_type": "display_data"
    }
   ],
   "source": [
    "df[['p1sur', 'p2sur']].plot()"
   ]
  },
  {
   "cell_type": "code",
   "execution_count": 37,
   "metadata": {
    "collapsed": false
   },
   "outputs": [
    {
     "data": {
      "text/html": [
       "<div>\n",
       "<table border=\"1\" class=\"dataframe\">\n",
       "  <thead>\n",
       "    <tr style=\"text-align: right;\">\n",
       "      <th></th>\n",
       "      <th>V1</th>\n",
       "      <th>V2</th>\n",
       "      <th>sw</th>\n",
       "      <th>alpha</th>\n",
       "      <th>beta</th>\n",
       "      <th>dx2</th>\n",
       "      <th>x2</th>\n",
       "      <th>dx1</th>\n",
       "      <th>x1</th>\n",
       "    </tr>\n",
       "  </thead>\n",
       "  <tbody>\n",
       "    <tr>\n",
       "      <th>13996</th>\n",
       "      <td>1.578214</td>\n",
       "      <td>2.669157</td>\n",
       "      <td>4.247371</td>\n",
       "      <td>0.621768</td>\n",
       "      <td>0.499999</td>\n",
       "      <td>-0.102068</td>\n",
       "      <td>0.780285</td>\n",
       "      <td>-0.046788</td>\n",
       "      <td>0.659095</td>\n",
       "    </tr>\n",
       "    <tr>\n",
       "      <th>13997</th>\n",
       "      <td>1.578214</td>\n",
       "      <td>2.669158</td>\n",
       "      <td>4.247372</td>\n",
       "      <td>0.621770</td>\n",
       "      <td>0.499999</td>\n",
       "      <td>-0.102068</td>\n",
       "      <td>0.780285</td>\n",
       "      <td>-0.046788</td>\n",
       "      <td>0.659094</td>\n",
       "    </tr>\n",
       "    <tr>\n",
       "      <th>13998</th>\n",
       "      <td>1.578214</td>\n",
       "      <td>2.669159</td>\n",
       "      <td>4.247374</td>\n",
       "      <td>0.621773</td>\n",
       "      <td>0.499999</td>\n",
       "      <td>-0.102068</td>\n",
       "      <td>0.780285</td>\n",
       "      <td>-0.046789</td>\n",
       "      <td>0.659094</td>\n",
       "    </tr>\n",
       "    <tr>\n",
       "      <th>13999</th>\n",
       "      <td>1.578214</td>\n",
       "      <td>2.669161</td>\n",
       "      <td>4.247375</td>\n",
       "      <td>0.621776</td>\n",
       "      <td>0.499999</td>\n",
       "      <td>-0.102067</td>\n",
       "      <td>0.780285</td>\n",
       "      <td>-0.046789</td>\n",
       "      <td>0.659093</td>\n",
       "    </tr>\n",
       "  </tbody>\n",
       "</table>\n",
       "</div>"
      ],
      "text/plain": [
       "             V1        V2        sw     alpha      beta       dx2        x2  \\\n",
       "13996  1.578214  2.669157  4.247371  0.621768  0.499999 -0.102068  0.780285   \n",
       "13997  1.578214  2.669158  4.247372  0.621770  0.499999 -0.102068  0.780285   \n",
       "13998  1.578214  2.669159  4.247374  0.621773  0.499999 -0.102068  0.780285   \n",
       "13999  1.578214  2.669161  4.247375  0.621776  0.499999 -0.102067  0.780285   \n",
       "\n",
       "            dx1        x1  \n",
       "13996 -0.046788  0.659095  \n",
       "13997 -0.046788  0.659094  \n",
       "13998 -0.046789  0.659094  \n",
       "13999 -0.046789  0.659093  "
      ]
     },
     "execution_count": 37,
     "metadata": {},
     "output_type": "execute_result"
    }
   ],
   "source": [
    "df[['V1', 'V2', 'sw', 'alpha', 'beta', 'dx2', 'x2', 'dx1', 'x1']].tail(4)"
   ]
  },
  {
   "cell_type": "code",
   "execution_count": null,
   "metadata": {
    "collapsed": true
   },
   "outputs": [],
   "source": []
  }
 ],
 "metadata": {
  "kernelspec": {
   "display_name": "Python 3",
   "language": "python",
   "name": "python3"
  },
  "language_info": {
   "codemirror_mode": {
    "name": "ipython",
    "version": 3
   },
   "file_extension": ".py",
   "mimetype": "text/x-python",
   "name": "python",
   "nbconvert_exporter": "python",
   "pygments_lexer": "ipython3",
   "version": "3.5.1"
  }
 },
 "nbformat": 4,
 "nbformat_minor": 0
}
