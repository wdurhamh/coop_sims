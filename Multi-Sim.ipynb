{
 "cells": [
  {
   "cell_type": "code",
   "execution_count": 21,
   "metadata": {
    "collapsed": false
   },
   "outputs": [],
   "source": [
    "import numpy as np\n",
    "import pandas as pd\n",
    "import matplotlib.pyplot as plt\n",
    "import dynamics as Sim\n",
    "%matplotlib inline\n",
    "\n",
    "A = np.matrix('-10, -4; -3, -7')\n",
    "B = np.matrix('16;16')"
   ]
  },
  {
   "cell_type": "code",
   "execution_count": 22,
   "metadata": {
    "collapsed": false
   },
   "outputs": [],
   "source": [
    "\n",
    "sim1 = Sim.NC(A,B)\n",
    "data1 = sim1.run_simulation()\n",
    "data1\n",
    "sim2 = Sim.FC(A,B)\n",
    "data2 = sim2.run_simulation()\n",
    "\n",
    "sim3 = Sim.SidePayment(A,B)\n",
    "data3 = sim3.run_simulation()"
   ]
  },
  {
   "cell_type": "code",
   "execution_count": 23,
   "metadata": {
    "collapsed": false
   },
   "outputs": [
    {
     "data": {
      "text/html": [
       "<div>\n",
       "<table border=\"1\" class=\"dataframe\">\n",
       "  <thead>\n",
       "    <tr style=\"text-align: right;\">\n",
       "      <th></th>\n",
       "      <th>barx1</th>\n",
       "      <th>barx2</th>\n",
       "      <th>dx1</th>\n",
       "      <th>dx2</th>\n",
       "      <th>x1</th>\n",
       "      <th>x2</th>\n",
       "      <th>beta1</th>\n",
       "      <th>beta2</th>\n",
       "      <th>V1</th>\n",
       "      <th>V2</th>\n",
       "      <th>Social Welfare</th>\n",
       "    </tr>\n",
       "  </thead>\n",
       "  <tbody>\n",
       "    <tr>\n",
       "      <th>9999</th>\n",
       "      <td>0.597015</td>\n",
       "      <td>1.014925</td>\n",
       "      <td>0</td>\n",
       "      <td>0</td>\n",
       "      <td>0.597015</td>\n",
       "      <td>1.014925</td>\n",
       "      <td>0</td>\n",
       "      <td>0</td>\n",
       "      <td>3.564268</td>\n",
       "      <td>7.210515</td>\n",
       "      <td>10.774783</td>\n",
       "    </tr>\n",
       "  </tbody>\n",
       "</table>\n",
       "</div>"
      ],
      "text/plain": [
       "         barx1     barx2  dx1  dx2        x1        x2  beta1  beta2  \\\n",
       "9999  0.597015  1.014925    0    0  0.597015  1.014925      0      0   \n",
       "\n",
       "            V1        V2  Social Welfare  \n",
       "9999  3.564268  7.210515       10.774783  "
      ]
     },
     "execution_count": 23,
     "metadata": {},
     "output_type": "execute_result"
    }
   ],
   "source": [
    "data1.tail(1) "
   ]
  },
  {
   "cell_type": "code",
   "execution_count": 24,
   "metadata": {
    "collapsed": false
   },
   "outputs": [
    {
     "data": {
      "text/html": [
       "<div>\n",
       "<table border=\"1\" class=\"dataframe\">\n",
       "  <thead>\n",
       "    <tr style=\"text-align: right;\">\n",
       "      <th></th>\n",
       "      <th>barx1</th>\n",
       "      <th>barx2</th>\n",
       "      <th>dx1</th>\n",
       "      <th>dx2</th>\n",
       "      <th>x1</th>\n",
       "      <th>x2</th>\n",
       "      <th>beta1</th>\n",
       "      <th>beta2</th>\n",
       "      <th>V1</th>\n",
       "      <th>V2</th>\n",
       "      <th>Social Welfare</th>\n",
       "    </tr>\n",
       "  </thead>\n",
       "  <tbody>\n",
       "    <tr>\n",
       "      <th>9999</th>\n",
       "      <td>0.484848</td>\n",
       "      <td>0.900433</td>\n",
       "      <td>0</td>\n",
       "      <td>0</td>\n",
       "      <td>0.484848</td>\n",
       "      <td>0.900433</td>\n",
       "      <td>0</td>\n",
       "      <td>0</td>\n",
       "      <td>3.660501</td>\n",
       "      <td>7.42175</td>\n",
       "      <td>11.082251</td>\n",
       "    </tr>\n",
       "  </tbody>\n",
       "</table>\n",
       "</div>"
      ],
      "text/plain": [
       "         barx1     barx2  dx1  dx2        x1        x2  beta1  beta2  \\\n",
       "9999  0.484848  0.900433    0    0  0.484848  0.900433      0      0   \n",
       "\n",
       "            V1       V2  Social Welfare  \n",
       "9999  3.660501  7.42175       11.082251  "
      ]
     },
     "execution_count": 24,
     "metadata": {},
     "output_type": "execute_result"
    }
   ],
   "source": [
    "data2.tail(1)"
   ]
  },
  {
   "cell_type": "code",
   "execution_count": 25,
   "metadata": {
    "collapsed": false
   },
   "outputs": [
    {
     "data": {
      "text/html": [
       "<div>\n",
       "<table border=\"1\" class=\"dataframe\">\n",
       "  <thead>\n",
       "    <tr style=\"text-align: right;\">\n",
       "      <th></th>\n",
       "      <th>barx1</th>\n",
       "      <th>barx2</th>\n",
       "      <th>dx1</th>\n",
       "      <th>dx2</th>\n",
       "      <th>x1</th>\n",
       "      <th>x2</th>\n",
       "      <th>beta1</th>\n",
       "      <th>beta2</th>\n",
       "      <th>V1</th>\n",
       "      <th>V2</th>\n",
       "      <th>Social Welfare</th>\n",
       "    </tr>\n",
       "  </thead>\n",
       "  <tbody>\n",
       "    <tr>\n",
       "      <th>9999</th>\n",
       "      <td>0.597015</td>\n",
       "      <td>1.014925</td>\n",
       "      <td>-0.112166</td>\n",
       "      <td>-0.114492</td>\n",
       "      <td>0.484848</td>\n",
       "      <td>0.900433</td>\n",
       "      <td>1</td>\n",
       "      <td>1</td>\n",
       "      <td>3.74145</td>\n",
       "      <td>7.340801</td>\n",
       "      <td>11.082251</td>\n",
       "    </tr>\n",
       "  </tbody>\n",
       "</table>\n",
       "</div>"
      ],
      "text/plain": [
       "         barx1     barx2       dx1       dx2        x1        x2  beta1  \\\n",
       "9999  0.597015  1.014925 -0.112166 -0.114492  0.484848  0.900433      1   \n",
       "\n",
       "      beta2       V1        V2  Social Welfare  \n",
       "9999      1  3.74145  7.340801       11.082251  "
      ]
     },
     "execution_count": 25,
     "metadata": {},
     "output_type": "execute_result"
    }
   ],
   "source": [
    "data3.tail(1)"
   ]
  },
  {
   "cell_type": "code",
   "execution_count": null,
   "metadata": {
    "collapsed": true
   },
   "outputs": [],
   "source": []
  }
 ],
 "metadata": {
  "kernelspec": {
   "display_name": "Python 2",
   "language": "python",
   "name": "python2"
  },
  "language_info": {
   "codemirror_mode": {
    "name": "ipython",
    "version": 2
   },
   "file_extension": ".py",
   "mimetype": "text/x-python",
   "name": "python",
   "nbconvert_exporter": "python",
   "pygments_lexer": "ipython2",
   "version": "2.7.10"
  }
 },
 "nbformat": 4,
 "nbformat_minor": 0
}
