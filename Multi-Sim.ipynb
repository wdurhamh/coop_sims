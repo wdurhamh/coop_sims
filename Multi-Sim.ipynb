{
 "cells": [
  {
   "cell_type": "code",
   "execution_count": 1,
   "metadata": {
    "collapsed": false
   },
   "outputs": [],
   "source": [
    "import numpy as np\n",
    "import pandas as pd\n",
    "import matplotlib.pyplot as plt\n",
    "import dynamics as Sim\n",
    "%matplotlib inline\n",
    "\n",
    "A = np.matrix('-6, -2; -1, -5')\n",
    "B = np.matrix('16;16')"
   ]
  },
  {
   "cell_type": "code",
   "execution_count": 2,
   "metadata": {
    "collapsed": false
   },
   "outputs": [],
   "source": [
    "\n",
    "sim1 = Sim.NC(A,B)\n",
    "data1 = sim1.run_simulation()\n",
    "\n",
    "sim2 = Sim.FC(A,B)\n",
    "data2 = sim2.run_simulation()\n",
    "\n",
    "sim3 = Sim.SidePayment(A,B)\n",
    "data3 = sim3.run_simulation()"
   ]
  },
  {
   "cell_type": "code",
   "execution_count": 3,
   "metadata": {
    "collapsed": false
   },
   "outputs": [
    {
     "data": {
      "text/html": [
       "<div>\n",
       "<table border=\"1\" class=\"dataframe\">\n",
       "  <thead>\n",
       "    <tr style=\"text-align: right;\">\n",
       "      <th></th>\n",
       "      <th>barx1</th>\n",
       "      <th>barx2</th>\n",
       "      <th>dx1</th>\n",
       "      <th>dx2</th>\n",
       "      <th>x1</th>\n",
       "      <th>x2</th>\n",
       "      <th>beta1</th>\n",
       "      <th>beta2</th>\n",
       "      <th>V1</th>\n",
       "      <th>V2</th>\n",
       "      <th>Social Welfare</th>\n",
       "    </tr>\n",
       "  </thead>\n",
       "  <tbody>\n",
       "    <tr>\n",
       "      <th>9999</th>\n",
       "      <td>1.084746</td>\n",
       "      <td>1.491525</td>\n",
       "      <td>0</td>\n",
       "      <td>0</td>\n",
       "      <td>1.084746</td>\n",
       "      <td>1.491525</td>\n",
       "      <td>0</td>\n",
       "      <td>0</td>\n",
       "      <td>7.06004</td>\n",
       "      <td>11.12324</td>\n",
       "      <td>18.183281</td>\n",
       "    </tr>\n",
       "  </tbody>\n",
       "</table>\n",
       "</div>"
      ],
      "text/plain": [
       "         barx1     barx2  dx1  dx2        x1        x2  beta1  beta2       V1  \\\n",
       "9999  1.084746  1.491525    0    0  1.084746  1.491525      0      0  7.06004   \n",
       "\n",
       "            V2  Social Welfare  \n",
       "9999  11.12324       18.183281  "
      ]
     },
     "execution_count": 3,
     "metadata": {},
     "output_type": "execute_result"
    }
   ],
   "source": [
    "data1.tail(1) "
   ]
  },
  {
   "cell_type": "code",
   "execution_count": 4,
   "metadata": {
    "collapsed": false
   },
   "outputs": [
    {
     "data": {
      "text/html": [
       "<div>\n",
       "<table border=\"1\" class=\"dataframe\">\n",
       "  <thead>\n",
       "    <tr style=\"text-align: right;\">\n",
       "      <th></th>\n",
       "      <th>barx1</th>\n",
       "      <th>barx2</th>\n",
       "      <th>dx1</th>\n",
       "      <th>dx2</th>\n",
       "      <th>x1</th>\n",
       "      <th>x2</th>\n",
       "      <th>beta1</th>\n",
       "      <th>beta2</th>\n",
       "      <th>V1</th>\n",
       "      <th>V2</th>\n",
       "      <th>Social Welfare</th>\n",
       "    </tr>\n",
       "  </thead>\n",
       "  <tbody>\n",
       "    <tr>\n",
       "      <th>9999</th>\n",
       "      <td>1.009009</td>\n",
       "      <td>1.297297</td>\n",
       "      <td>0</td>\n",
       "      <td>0</td>\n",
       "      <td>1.009009</td>\n",
       "      <td>1.297297</td>\n",
       "      <td>0</td>\n",
       "      <td>0</td>\n",
       "      <td>7.41758</td>\n",
       "      <td>11.032871</td>\n",
       "      <td>18.45045</td>\n",
       "    </tr>\n",
       "  </tbody>\n",
       "</table>\n",
       "</div>"
      ],
      "text/plain": [
       "         barx1     barx2  dx1  dx2        x1        x2  beta1  beta2       V1  \\\n",
       "9999  1.009009  1.297297    0    0  1.009009  1.297297      0      0  7.41758   \n",
       "\n",
       "             V2  Social Welfare  \n",
       "9999  11.032871        18.45045  "
      ]
     },
     "execution_count": 4,
     "metadata": {},
     "output_type": "execute_result"
    }
   ],
   "source": [
    "data2.tail(1)"
   ]
  },
  {
   "cell_type": "code",
   "execution_count": 5,
   "metadata": {
    "collapsed": false
   },
   "outputs": [
    {
     "data": {
      "text/html": [
       "<div>\n",
       "<table border=\"1\" class=\"dataframe\">\n",
       "  <thead>\n",
       "    <tr style=\"text-align: right;\">\n",
       "      <th></th>\n",
       "      <th>barx1</th>\n",
       "      <th>barx2</th>\n",
       "      <th>dx1</th>\n",
       "      <th>dx2</th>\n",
       "      <th>x1</th>\n",
       "      <th>x2</th>\n",
       "      <th>beta1</th>\n",
       "      <th>beta2</th>\n",
       "      <th>V1</th>\n",
       "      <th>V2</th>\n",
       "      <th>Social Welfare</th>\n",
       "    </tr>\n",
       "  </thead>\n",
       "  <tbody>\n",
       "    <tr>\n",
       "      <th>9999</th>\n",
       "      <td>1.084746</td>\n",
       "      <td>1.491525</td>\n",
       "      <td>-0.049513</td>\n",
       "      <td>-0.101048</td>\n",
       "      <td>1.035233</td>\n",
       "      <td>1.390478</td>\n",
       "      <td>0.5</td>\n",
       "      <td>0.499975</td>\n",
       "      <td>7.18436</td>\n",
       "      <td>11.21122</td>\n",
       "      <td>18.395581</td>\n",
       "    </tr>\n",
       "  </tbody>\n",
       "</table>\n",
       "</div>"
      ],
      "text/plain": [
       "         barx1     barx2       dx1       dx2        x1        x2  beta1  \\\n",
       "9999  1.084746  1.491525 -0.049513 -0.101048  1.035233  1.390478    0.5   \n",
       "\n",
       "         beta2       V1        V2  Social Welfare  \n",
       "9999  0.499975  7.18436  11.21122       18.395581  "
      ]
     },
     "execution_count": 5,
     "metadata": {},
     "output_type": "execute_result"
    }
   ],
   "source": [
    "data3.tail(1)"
   ]
  },
  {
   "cell_type": "code",
   "execution_count": 30,
   "metadata": {
    "collapsed": false
   },
   "outputs": [
    {
     "data": {
      "text/plain": [
       "<matplotlib.axes._subplots.AxesSubplot at 0x7f8e53429828>"
      ]
     },
     "execution_count": 30,
     "metadata": {},
     "output_type": "execute_result"
    },
    {
     "data": {
      "image/png": "[encoded data removed]",
      "text/plain": [
       "<matplotlib.figure.Figure at 0x7f8e534a2d30>"
      ]
     },
     "metadata": {},
     "output_type": "display_data"
    }
   ],
   "source": [
    "data3[['barx1', 'barx2']].plot()"
   ]
  },
  {
   "cell_type": "code",
   "execution_count": null,
   "metadata": {
    "collapsed": true
   },
   "outputs": [],
   "source": []
  }
 ],
 "metadata": {
  "kernelspec": {
   "display_name": "Python 3",
   "language": "python",
   "name": "python3"
  },
  "language_info": {
   "codemirror_mode": {
    "name": "ipython",
    "version": 3
   },
   "file_extension": ".py",
   "mimetype": "text/x-python",
   "name": "python",
   "nbconvert_exporter": "python",
   "pygments_lexer": "ipython3",
   "version": "3.5.1"
  }
 },
 "nbformat": 4,
 "nbformat_minor": 0
}
