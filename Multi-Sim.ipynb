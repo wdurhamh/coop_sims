{
 "cells": [
  {
   "cell_type": "code",
   "execution_count": 1,
   "metadata": {
    "collapsed": false
   },
   "outputs": [],
   "source": [
    "import numpy as np\n",
    "import pandas as pd\n",
    "import matplotlib.pyplot as plt\n",
    "import dynamics as Sim\n",
    "%matplotlib inline\n",
    "\n",
    "A = np.matrix('-3 -2; -1, -3')\n",
    "B = np.matrix('6;6')"
   ]
  },
  {
   "cell_type": "code",
   "execution_count": 2,
   "metadata": {
    "collapsed": false
   },
   "outputs": [],
   "source": [
    "\n",
    "sim1 = Sim.NC(A,B)\n",
    "data1 = sim1.run_simulation()\n",
    "data1\n",
    "sim2 = Sim.FC(A,B)\n",
    "data2 = sim2.run_simulation()\n",
    "\n",
    "sim3 = Sim.SidePayment(A,B)\n",
    "data3 = sim3.run_simulation()"
   ]
  },
  {
   "cell_type": "code",
   "execution_count": 5,
   "metadata": {
    "collapsed": false
   },
   "outputs": [
    {
     "name": "stdout",
     "output_type": "stream",
     "text": [
      "            x1        x2\n",
      "9999  0.705882  0.882353\n",
      "            x1        x2\n",
      "9999  0.666667  0.666667\n",
      "         barx1     barx2       dx2  beta       dx1  alpha\n",
      "9999  0.705882  0.882353 -0.215686     1 -0.039216      1\n"
     ]
    }
   ],
   "source": [
    "print( data1.tail(1) )\n",
    "print( data2.tail(1) )\n",
    "print( data3.tail(1) )"
   ]
  },
  {
   "cell_type": "code",
   "execution_count": null,
   "metadata": {
    "collapsed": true
   },
   "outputs": [],
   "source": []
  }
 ],
 "metadata": {
  "kernelspec": {
   "display_name": "Python 2",
   "language": "python",
   "name": "python2"
  },
  "language_info": {
   "codemirror_mode": {
    "name": "ipython",
    "version": 2
   },
   "file_extension": ".py",
   "mimetype": "text/x-python",
   "name": "python",
   "nbconvert_exporter": "python",
   "pygments_lexer": "ipython2",
   "version": "2.7.10"
  }
 },
 "nbformat": 4,
 "nbformat_minor": 0
}
