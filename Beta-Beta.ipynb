{
 "cells": [
  {
   "cell_type": "code",
   "execution_count": 13,
   "metadata": {
    "collapsed": false
   },
   "outputs": [],
   "source": [
    "import pandas as pd\n",
    "import numpy as np\n",
    "import matplotlib.pyplot as plt\n",
    "from scipy.integrate import odeint\n",
    "\n",
    "%matplotlib inline"
   ]
  },
  {
   "cell_type": "code",
   "execution_count": 14,
   "metadata": {
    "collapsed": false
   },
   "outputs": [],
   "source": [
    "\"\"\"\n",
    "    Define market with linear demand.\n",
    "    Market is characterized by demand function, which is characterized by A and b\n",
    "    Right now we assume a simplt to player market.\n",
    "\"\"\"\n",
    "n = 2\n",
    "A = np.matrix('-3 -2; -1, -3')\n",
    "B = np.matrix('6;6')"
   ]
  },
  {
   "cell_type": "code",
   "execution_count": 53,
   "metadata": {
    "collapsed": false
   },
   "outputs": [],
   "source": [
    "\"\"\"\n",
    "    Describes the evolition of the system.\n",
    "    Here barx1 and barx2 evolve by only looking at indiviudal profits\n",
    "    dx1 and dx2 evolve to maximize difference between sidepayment and losses.\n",
    "    alpha and beta evolve to with the assumption that deltax2 is at opitmum,\n",
    "        which allows for a straightforward expression for (d dx2/d beta)\n",
    "    Vector order [barx1, barx2, dx2, beta, dx1, alpha]\n",
    "\"\"\"\n",
    "def dynamics( x, t ):\n",
    "    x = np.matrix(x).T\n",
    "    J = np.matrix('-6 -2 0 0 0 0; -1 -6 0 0 0 0')\n",
    "    x_dot = J*x + B\n",
    "    barx1 = x[0]\n",
    "    barx2 = x[1]\n",
    "    dx2 = x[2]\n",
    "    beta1 = x[3]\n",
    "    dx1 = x[4]\n",
    "    beta2 = x[5]\n",
    "    x1 = barx1 + dx1\n",
    "    x2 = barx2 + dx2\n",
    "\n",
    "    dx1_dot = beta2*A[1,0]*x2 + (2*A[0,0]*x1 + A[0,1]*barx2 + B[0] ) + (1-beta1)*(dx2*A[0,1])\n",
    "    dx1_opt = ( beta2*A[1,0]*x2 + (2*A[0,0]*barx1 + A[0,1]*barx2 + B[0]) )/(-2*A[0,0])\n",
    "    dx2_dot = beta1*A[0,1]*x1 + (2*A[1,1]*(x2) + A[1,0]*barx1 + B[1] ) + (1-beta2)*(dx1*A[1,0])\n",
    "    dx2_opt = ( beta1*A[0,1]*x1 + (2*A[1,1]*barx2 + A[1,0]*barx1 + B[1]) )/(-2*A[1,1])\n",
    "    \n",
    "    #betaj\n",
    "    beta2_dot = -1*(x2*dx1_opt*A[1,0]) + ((A[1,0]*x2)**2)*(1-beta2)/(-2*A[0,0]) #+ beta*dx2*A[1,0]*A[0,1]*x2/(-2*A[0,0])\n",
    "    #betai\n",
    "    beta1_dot = -1*(x1*dx2_opt*A[0,1]) + ((A[0,1]*x1)**2)*(1-beta1)/(-2*A[1,1]) #+ alpha*dx1*A[0,1]*A[1,0]*x1/(-2*A[1,1])\n",
    "    \n",
    "    x_dot = x_dot.reshape(2,).tolist()[0]\n",
    "    \n",
    "    #multiplicative constant\n",
    "    c = 1.0\n",
    "    x_dot.append(c*dx2_dot[0,0])\n",
    "    x_dot.append(c*beta1_dot[0,0])\n",
    "    x_dot.append(c*dx1_dot[0,0])\n",
    "    x_dot.append(c*beta2_dot[0,0])\n",
    "    \n",
    "    #check limits (though I don't think these should be necessary)\n",
    "    #check that beta is between 0 and 1\n",
    "    if x[3] >= 1 and x_dot[3] > 0:\n",
    "        x_dot[3] = 0\n",
    "    if x[3] <= 0 and x_dot[3] < 0:\n",
    "        x_dot[3] = 0\n",
    "        \n",
    "    if x[5] >= 1 and x_dot[5] > 0:\n",
    "        x_dot[5] = 0\n",
    "    if x[5] <= 0 and x_dot[5] < 0:\n",
    "        x_dot[5] = 0\n",
    "    #make sure delta is not greater than x2\n",
    "    #perhaps here we need to think of coeficients\n",
    "    if (x[1] + x[2]) <=0 and ( x_dot[2] + x_dot[1] ) < 0:\n",
    "        x_dot[2] = 0\n",
    "    #print x_dot, x\n",
    "    return x_dot"
   ]
  },
  {
   "cell_type": "code",
   "execution_count": 54,
   "metadata": {
    "collapsed": false
   },
   "outputs": [],
   "source": [
    "x0 = [0,0,0,0,0,0]\n",
    "#x0 = [12.0/17,15.0/17,0,0,0,0]\n",
    "\n",
    "t = np.linspace(0.0, 30, 10000)\n",
    "x = odeint(dynamics, x0, t)"
   ]
  },
  {
   "cell_type": "code",
   "execution_count": 55,
   "metadata": {
    "collapsed": false
   },
   "outputs": [
    {
     "data": {
      "text/plain": [
       "<matplotlib.axes._subplots.AxesSubplot at 0x7f7dfcdc6fd0>"
      ]
     },
     "execution_count": 55,
     "metadata": {},
     "output_type": "execute_result"
    },
    {
     "data": {
      "image/png": "[encoded data removed]",
      "text/plain": [
       "<matplotlib.figure.Figure at 0x7f7dfce51c18>"
      ]
     },
     "metadata": {},
     "output_type": "display_data"
    }
   ],
   "source": [
    "df = pd.DataFrame(x)\n",
    "df.columns = ['barx1', 'barx2', 'dx2', 'beta', 'dx1', 'alpha']\n",
    "df[['barx1', 'barx2']].plot()"
   ]
  },
  {
   "cell_type": "code",
   "execution_count": 56,
   "metadata": {
    "collapsed": false
   },
   "outputs": [],
   "source": [
    "df['x2'] = df['barx2'] + df['dx2']\n",
    "df['x1'] = df['barx1'] + df['dx1']\n",
    "df['p1sur'] = (df['x1']*A[0,1]*df['dx2'])\n",
    "df['p2sur'] = (df['x2']*A[1,0]*df['dx1'])\n",
    "df['Pi1NC']  = df['x1']*(A[0,0]*df['x1'] + A[0,1]*df['barx2'] + B[0,0])\n",
    "df['Pi2NC']  = df['x2']*(A[1,1]*df['x2'] + A[1,0]*df['barx1'] + B[1,0])"
   ]
  },
  {
   "cell_type": "code",
   "execution_count": 57,
   "metadata": {
    "collapsed": false
   },
   "outputs": [],
   "source": [
    "df['V1'] = df['Pi1NC'] + (1 - df['beta'])*df['p1sur'] + df['alpha']*df['p2sur']\n",
    "df['V2'] = df['Pi2NC'] + (1 - df['alpha'])*df['p2sur'] + df['beta']*(df['p1sur'])\n",
    "df['sw'] = df['V1'] + df['V2']"
   ]
  },
  {
   "cell_type": "code",
   "execution_count": 58,
   "metadata": {
    "collapsed": false
   },
   "outputs": [
    {
     "data": {
      "text/plain": [
       "<matplotlib.axes._subplots.AxesSubplot at 0x7f7dfcdb5cc0>"
      ]
     },
     "execution_count": 58,
     "metadata": {},
     "output_type": "execute_result"
    },
    {
     "data": {
      "image/png": "[encoded data removed]",
      "text/plain": [
       "<matplotlib.figure.Figure at 0x7f7dfce14390>"
      ]
     },
     "metadata": {},
     "output_type": "display_data"
    }
   ],
   "source": [
    "df[['V1', 'V2', 'sw']].plot()"
   ]
  },
  {
   "cell_type": "code",
   "execution_count": 59,
   "metadata": {
    "collapsed": false
   },
   "outputs": [
    {
     "data": {
      "text/plain": [
       "<matplotlib.axes._subplots.AxesSubplot at 0x7f7dfcfb03c8>"
      ]
     },
     "execution_count": 59,
     "metadata": {},
     "output_type": "execute_result"
    },
    {
     "data": {
      "image/png": "[encoded data removed]",
      "text/plain": [
       "<matplotlib.figure.Figure at 0x7f7dfcd30ac8>"
      ]
     },
     "metadata": {},
     "output_type": "display_data"
    }
   ],
   "source": [
    "df[['beta', 'dx2']].plot()"
   ]
  },
  {
   "cell_type": "code",
   "execution_count": 60,
   "metadata": {
    "collapsed": false
   },
   "outputs": [
    {
     "data": {
      "text/plain": [
       "<matplotlib.axes._subplots.AxesSubplot at 0x7f7dfcc9e8d0>"
      ]
     },
     "execution_count": 60,
     "metadata": {},
     "output_type": "execute_result"
    },
    {
     "data": {
      "image/png": "[encoded data removed]",
      "text/plain": [
       "<matplotlib.figure.Figure at 0x7f7dfcca9240>"
      ]
     },
     "metadata": {},
     "output_type": "display_data"
    }
   ],
   "source": [
    "df[['alpha', 'dx1']].plot()"
   ]
  },
  {
   "cell_type": "code",
   "execution_count": 61,
   "metadata": {
    "collapsed": false
   },
   "outputs": [
    {
     "data": {
      "text/plain": [
       "<matplotlib.axes._subplots.AxesSubplot at 0x7f7dfcc7e5c0>"
      ]
     },
     "execution_count": 61,
     "metadata": {},
     "output_type": "execute_result"
    },
    {
     "data": {
      "image/png": "[encoded data removed]",
      "text/plain": [
       "<matplotlib.figure.Figure at 0x7f7dfcc0b6a0>"
      ]
     },
     "metadata": {},
     "output_type": "display_data"
    }
   ],
   "source": [
    "df[['p1sur', 'p2sur']].plot()"
   ]
  },
  {
   "cell_type": "code",
   "execution_count": 62,
   "metadata": {
    "collapsed": false
   },
   "outputs": [
    {
     "data": {
      "text/html": [
       "<div>\n",
       "<table border=\"1\" class=\"dataframe\">\n",
       "  <thead>\n",
       "    <tr style=\"text-align: right;\">\n",
       "      <th></th>\n",
       "      <th>V1</th>\n",
       "      <th>V2</th>\n",
       "      <th>sw</th>\n",
       "      <th>alpha</th>\n",
       "      <th>beta</th>\n",
       "      <th>dx2</th>\n",
       "      <th>x2</th>\n",
       "      <th>dx1</th>\n",
       "      <th>x1</th>\n",
       "    </tr>\n",
       "  </thead>\n",
       "  <tbody>\n",
       "    <tr>\n",
       "      <th>9996</th>\n",
       "      <td>1.576176</td>\n",
       "      <td>2.390031</td>\n",
       "      <td>3.966207</td>\n",
       "      <td>0.499013</td>\n",
       "      <td>0.5</td>\n",
       "      <td>-0.10591</td>\n",
       "      <td>0.776443</td>\n",
       "      <td>-0.046919</td>\n",
       "      <td>0.658963</td>\n",
       "    </tr>\n",
       "    <tr>\n",
       "      <th>9997</th>\n",
       "      <td>1.576176</td>\n",
       "      <td>2.390031</td>\n",
       "      <td>3.966207</td>\n",
       "      <td>0.499013</td>\n",
       "      <td>0.5</td>\n",
       "      <td>-0.10591</td>\n",
       "      <td>0.776443</td>\n",
       "      <td>-0.046919</td>\n",
       "      <td>0.658963</td>\n",
       "    </tr>\n",
       "    <tr>\n",
       "      <th>9998</th>\n",
       "      <td>1.576176</td>\n",
       "      <td>2.390031</td>\n",
       "      <td>3.966207</td>\n",
       "      <td>0.499014</td>\n",
       "      <td>0.5</td>\n",
       "      <td>-0.10591</td>\n",
       "      <td>0.776443</td>\n",
       "      <td>-0.046920</td>\n",
       "      <td>0.658963</td>\n",
       "    </tr>\n",
       "    <tr>\n",
       "      <th>9999</th>\n",
       "      <td>1.576176</td>\n",
       "      <td>2.390031</td>\n",
       "      <td>3.966207</td>\n",
       "      <td>0.499014</td>\n",
       "      <td>0.5</td>\n",
       "      <td>-0.10591</td>\n",
       "      <td>0.776443</td>\n",
       "      <td>-0.046920</td>\n",
       "      <td>0.658963</td>\n",
       "    </tr>\n",
       "  </tbody>\n",
       "</table>\n",
       "</div>"
      ],
      "text/plain": [
       "            V1        V2        sw     alpha  beta      dx2        x2  \\\n",
       "9996  1.576176  2.390031  3.966207  0.499013   0.5 -0.10591  0.776443   \n",
       "9997  1.576176  2.390031  3.966207  0.499013   0.5 -0.10591  0.776443   \n",
       "9998  1.576176  2.390031  3.966207  0.499014   0.5 -0.10591  0.776443   \n",
       "9999  1.576176  2.390031  3.966207  0.499014   0.5 -0.10591  0.776443   \n",
       "\n",
       "           dx1        x1  \n",
       "9996 -0.046919  0.658963  \n",
       "9997 -0.046919  0.658963  \n",
       "9998 -0.046920  0.658963  \n",
       "9999 -0.046920  0.658963  "
      ]
     },
     "execution_count": 62,
     "metadata": {},
     "output_type": "execute_result"
    }
   ],
   "source": [
    "df[['V1', 'V2', 'sw', 'alpha', 'beta', 'dx2', 'x2', 'dx1', 'x1']].tail(4)"
   ]
  },
  {
   "cell_type": "code",
   "execution_count": null,
   "metadata": {
    "collapsed": true
   },
   "outputs": [],
   "source": []
  },
  {
   "cell_type": "code",
   "execution_count": null,
   "metadata": {
    "collapsed": true
   },
   "outputs": [],
   "source": []
  },
  {
   "cell_type": "code",
   "execution_count": null,
   "metadata": {
    "collapsed": true
   },
   "outputs": [],
   "source": []
  }
 ],
 "metadata": {
  "kernelspec": {
   "display_name": "Python 3",
   "language": "python",
   "name": "python3"
  },
  "language_info": {
   "codemirror_mode": {
    "name": "ipython",
    "version": 3
   },
   "file_extension": ".py",
   "mimetype": "text/x-python",
   "name": "python",
   "nbconvert_exporter": "python",
   "pygments_lexer": "ipython3",
   "version": "3.5.1"
  }
 },
 "nbformat": 4,
 "nbformat_minor": 0
}
