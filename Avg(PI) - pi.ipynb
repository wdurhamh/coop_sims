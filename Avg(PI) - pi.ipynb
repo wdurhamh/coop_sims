{
 "cells": [
  {
   "cell_type": "code",
   "execution_count": 13,
   "metadata": {
    "collapsed": true
   },
   "outputs": [],
   "source": [
    "import matplotlib.pyplot as plt\n",
    "from mpl_toolkits.mplot3d import Axes3D\n",
    "from scipy.integrate import odeint\n",
    "from matplotlib.font_manager import FontProperties\n",
    "import numpy as np\n",
    "import pandas as pd\n",
    "%matplotlib inline"
   ]
  },
  {
   "cell_type": "code",
   "execution_count": 54,
   "metadata": {
    "collapsed": true
   },
   "outputs": [],
   "source": [
    "#define market structure\n",
    "A = [[-3, -2],[-1, -3]]\n",
    "B = [6,6]\n",
    "\n",
    "def dynamics(x,t):\n",
    "    c = 0.5\n",
    "    x = np.atleast_2d(x).T\n",
    "    x_dot = np.empty((3,1))\n",
    "    #calc price dots\n",
    "    beta = x[2]\n",
    "    A = np.atleast_2d([[(beta-1.0)*6.0, (beta-1.0)*2.0],[-2.*(beta-1), -6]]);\n",
    "    B = np.atleast_2d([[(1-beta)*6.0],[6.0]])\n",
    "    temp = np.dot(A,x[0:2]).reshape(2,1)\n",
    "    x_dot[0:2] = temp + B\n",
    "    \n",
    "    a_temp = np.atleast_2d([[-6, -2],[-2, 0]])\n",
    "    b_temp = np.atleast_2d([[6],[0]])\n",
    "    c_temp = np.dot(a_temp,x[0:2]).reshape(2,1) + b_temp\n",
    "    pi1_dot = np.dot(x_dot[0:2].T, c_temp)\n",
    "    \n",
    "    a_temp = np.atleast_2d([[0, -1],[-1, -6]])\n",
    "    b_temp = np.atleast_2d([[0],[6]])\n",
    "    c_temp = np.dot(a_temp,x[0:2]).reshape(2,1) + b_temp\n",
    "    pi2_dot = np.dot(x_dot[0:2].T, c_temp)\n",
    "  \n",
    "    pi_1 = x[0]*(-3*x[0] - 2*x[1] + 6)\n",
    "    if pi_1 == 0:\n",
    "        x_dot[2] = 10\n",
    "    else:\n",
    "        x_dot[2] = ((c-1)*pi2_dot + (c - beta)*pi1_dot)/pi_1\n",
    "    \n",
    "    #check limits\n",
    "    if x_dot[0] < 0 and x[0] <= 0:\n",
    "        x_dot[0] = 0\n",
    "    if x_dot[1] < 0 and x[1] <= 0:\n",
    "        x_dot[1] = 0\n",
    "    if (x_dot[2] < 0 and beta <=0) or (x_dot[2] >0 and beta >= 1):\n",
    "        x_dot[2] = 0\n",
    "    return x_dot.flatten()"
   ]
  },
  {
   "cell_type": "code",
   "execution_count": 63,
   "metadata": {
    "collapsed": false
   },
   "outputs": [],
   "source": [
    "#non-cooperative equilibirum\n",
    "#x_0 = np.array([12.0/17,15.0/17,0])\n",
    "#super cooperative equilibrium\n",
    "#x_0 = np.array([2.0/3,2.0/3,.5])\n",
    "#other inputs\n",
    "x_0 = np.array([1.,.3,.6])\n",
    "t = np.linspace(0.0, 6.0, 1000)\n",
    "\n",
    "x = odeint(dynamics, x_0, t)"
   ]
  },
  {
   "cell_type": "code",
   "execution_count": 64,
   "metadata": {
    "collapsed": false
   },
   "outputs": [
    {
     "data": {
      "image/png": "[encoded data removed]",
      "text/plain": [
       "<matplotlib.figure.Figure at 0x110dd7090>"
      ]
     },
     "metadata": {},
     "output_type": "display_data"
    }
   ],
   "source": [
    "df = pd.DataFrame(x)\n",
    "df.columns = ['Price 1', 'Price 2', 'Beta']\n",
    "df.plot()\n",
    "df['Profit 1'] = df['Price 1']*(A[0][0]*df['Price 1'] + A[0][1]*df['Price 2'] + B[0])\n",
    "df['Profit 2'] = df['Price 2']*(A[1][0]*df['Price 1'] + A[1][1]*df['Price 2'] + B[1])\n",
    "df['Util 1'] = df['Profit 1']*(1-df['Beta'])\n",
    "df['Util 2'] = df['Profit 2'] + df['Beta']*df['Profit 1']\n",
    "df['Social Welfare'] = df['Profit 1'] + df['Profit 2']"
   ]
  },
  {
   "cell_type": "code",
   "execution_count": 65,
   "metadata": {
    "collapsed": false
   },
   "outputs": [
    {
     "data": {
      "text/plain": [
       "<matplotlib.axes._subplots.AxesSubplot at 0x110da9110>"
      ]
     },
     "execution_count": 65,
     "metadata": {},
     "output_type": "execute_result"
    },
    {
     "data": {
      "image/png": "[encoded data removed]",
      "text/plain": [
       "<matplotlib.figure.Figure at 0x110eafbd0>"
      ]
     },
     "metadata": {},
     "output_type": "display_data"
    }
   ],
   "source": [
    "df[['Social Welfare', 'Util 1', 'Util 2']].plot()"
   ]
  },
  {
   "cell_type": "code",
   "execution_count": 23,
   "metadata": {
    "collapsed": false
   },
   "outputs": [
    {
     "name": "stdout",
     "output_type": "stream",
     "text": [
      "       Util 1    Util 2\n",
      "0    0.000000  0.000000\n",
      "1    0.204875  0.208574\n",
      "2    0.388398  0.402446\n",
      "3    0.552443  0.582461\n",
      "4    0.698735  0.749426\n",
      "5    0.828858  0.904111\n",
      "6    0.944270  1.047248\n",
      "7    1.046307  1.179534\n",
      "8    1.136198  1.301634\n",
      "9    1.215070  1.414177\n",
      "10   1.283955  1.517761\n",
      "11   1.343800  1.612955\n",
      "12   1.395472  1.700297\n",
      "13   1.439766  1.780297\n",
      "14   1.477405  1.853437\n",
      "15   1.509055  1.920174\n",
      "16   1.535321  1.980938\n",
      "17   1.556757  2.036137\n",
      "18   1.573867  2.086156\n",
      "19   1.587111  2.131357\n",
      "20   1.596909  2.172081\n",
      "21   1.603642  2.208649\n",
      "22   1.607657  2.241365\n",
      "23   1.609267  2.270513\n",
      "24   1.608760  2.296359\n",
      "25   1.606394  2.319155\n",
      "26   1.602404  2.339137\n",
      "27   1.597001  2.356523\n",
      "28   1.590378  2.371522\n",
      "29   1.582708  2.384327\n",
      "..        ...       ...\n",
      "970  1.080000  2.160001\n",
      "971  1.080000  2.160001\n",
      "972  1.080000  2.160001\n",
      "973  1.080000  2.160001\n",
      "974  1.080000  2.160001\n",
      "975  1.080000  2.160001\n",
      "976  1.080000  2.160001\n",
      "977  1.080000  2.160001\n",
      "978  1.080000  2.160001\n",
      "979  1.080000  2.160001\n",
      "980  1.080000  2.160001\n",
      "981  1.080000  2.160001\n",
      "982  1.080000  2.160001\n",
      "983  1.080000  2.160001\n",
      "984  1.080000  2.160001\n",
      "985  1.080000  2.160001\n",
      "986  1.080000  2.160001\n",
      "987  1.080000  2.160001\n",
      "988  1.080000  2.160001\n",
      "989  1.080000  2.160001\n",
      "990  1.080000  2.160001\n",
      "991  1.080000  2.160001\n",
      "992  1.080000  2.160001\n",
      "993  1.080000  2.160001\n",
      "994  1.080000  2.160001\n",
      "995  1.080000  2.160001\n",
      "996  1.080000  2.160001\n",
      "997  1.080000  2.160001\n",
      "998  1.080000  2.160001\n",
      "999  1.080000  2.160001\n",
      "\n",
      "[1000 rows x 2 columns]\n"
     ]
    }
   ],
   "source": [
    "print df[['Util 1', 'Util 2']]"
   ]
  },
  {
   "cell_type": "code",
   "execution_count": null,
   "metadata": {
    "collapsed": true
   },
   "outputs": [],
   "source": []
  }
 ],
 "metadata": {
  "kernelspec": {
   "display_name": "Python 2",
   "language": "python",
   "name": "python2"
  },
  "language_info": {
   "codemirror_mode": {
    "name": "ipython",
    "version": 2
   },
   "file_extension": ".py",
   "mimetype": "text/x-python",
   "name": "python",
   "nbconvert_exporter": "python",
   "pygments_lexer": "ipython2",
   "version": "2.7.10"
  }
 },
 "nbformat": 4,
 "nbformat_minor": 0
}
