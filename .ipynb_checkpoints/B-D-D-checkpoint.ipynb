{
 "cells": [
  {
   "cell_type": "markdown",
   "metadata": {},
   "source": [
    "Beta-Delta-Delta Dynamics\n",
    "========================="
   ]
  },
  {
   "cell_type": "code",
   "execution_count": 12,
   "metadata": {
    "collapsed": false
   },
   "outputs": [],
   "source": [
    "import pandas as pd\n",
    "import numpy as np\n",
    "import matplotlib.pyplot as plt\n",
    "from scipy.integrate import odeint\n",
    "\n",
    "%matplotlib inline"
   ]
  },
  {
   "cell_type": "code",
   "execution_count": 13,
   "metadata": {
    "collapsed": false
   },
   "outputs": [],
   "source": [
    "\"\"\"\n",
    "    Define market with linear demand.\n",
    "    Market is characterized by demand function, which is characterized by A and b\n",
    "    Right now we assume a simplt to player market.\n",
    "\"\"\"\n",
    "n = 2\n",
    "A = np.matrix('-3 -2; -1, -3')\n",
    "B = np.matrix('6;6')"
   ]
  },
  {
   "cell_type": "code",
   "execution_count": 25,
   "metadata": {
    "collapsed": false
   },
   "outputs": [],
   "source": [
    "\"\"\"\n",
    "    Describes the evolition of the system.\n",
    "    Here x1 and barx2 evolve by only looking at indiviudal profits\n",
    "    dx2 evolves to maximize difference between sidepayment and losses.\n",
    "    beta evolves to with the loose assumption that deltax2 is at opitmum,\n",
    "        which allows for a single expression for (d dx2/d beta)\n",
    "    Vector order [x1, barx2, dx2, beta]\n",
    "\"\"\"\n",
    "def dynamics( x, t ):\n",
    "    x = np.matrix(x).T\n",
    "    J = np.matrix('-6 -2 0 0; -1 -6 0 0')\n",
    "    x_dot = J*x + B\n",
    "\n",
    "    dx2_dot = x[3]*A[0,1]*x[0] + (2*A[1,1]*(x[1] + x[2]) + A[1,0]*x[0] + B[1] )\n",
    "    \n",
    "    dx2_opt = ( x[3]*A[0,1]*x[0] + (2*A[1,1]*x[1] + A[1,0]*x[0] + B[1]) )/(-2*A[1,1])\n",
    "    #dx2_opt = 1\n",
    "    beta_dot = -1*(x[0]*dx2_opt*A[0,1]) + ((A[0,1]*x[0])**2)*(1-x[3])/(-2*A[1,1])\n",
    "    x_dot = x_dot.reshape(2,).tolist()[0]\n",
    "    \n",
    "    #multiplicative constant\n",
    "    c = 1.0\n",
    "    x_dot.append(c*dx2_dot[0,0])\n",
    "    x_dot.append(c*beta_dot[0,0])\n",
    "    \n",
    "    #check limits (though I don't think these should be necessary)\n",
    "    #check that beta is between 0 and 1\n",
    "    if x[3] >= 1 and x_dot[3] > 0:\n",
    "        x_dot[3] = 0\n",
    "    if x[3] <= 0 and x_dot[3] < 0:\n",
    "        x_dot[3] = 0\n",
    "    #make sure delta is not greater than x2\n",
    "    #perhaps here we need to think of coeficients\n",
    "    if (x[1] + x[2]) <=0 and ( x_dot[2] + x_dot[1] ) < 0:\n",
    "        x_dot[2] = 0\n",
    "    #print x_dot, x\n",
    "    return x_dot"
   ]
  },
  {
   "cell_type": "code",
   "execution_count": 26,
   "metadata": {
    "collapsed": false
   },
   "outputs": [],
   "source": [
    "x0 = [0,0,0,0]\n",
    "#x0 = [12.0/17,15.0/17,0,0]\n",
    "\n",
    "t = np.linspace(0.0, 17, 14000)\n",
    "x = odeint(dynamics, x0, t)"
   ]
  },
  {
   "cell_type": "code",
   "execution_count": 27,
   "metadata": {
    "collapsed": false
   },
   "outputs": [
    {
     "data": {
      "text/plain": [
       "<matplotlib.axes._subplots.AxesSubplot at 0x7f7936e201d0>"
      ]
     },
     "execution_count": 27,
     "metadata": {},
     "output_type": "execute_result"
    },
    {
     "data": {
      "image/png": "[encoded data removed]",
      "text/plain": [
       "<matplotlib.figure.Figure at 0x7f7936e1f630>"
      ]
     },
     "metadata": {},
     "output_type": "display_data"
    }
   ],
   "source": [
    "df = pd.DataFrame(x)\n",
    "df.columns = ['x1', 'barx2', 'dx2', 'beta']\n",
    "df[['x1', 'barx2']].plot()"
   ]
  },
  {
   "cell_type": "code",
   "execution_count": 28,
   "metadata": {
    "collapsed": false
   },
   "outputs": [],
   "source": [
    "df['x2'] = df['barx2'] + df['dx2']\n",
    "df['p1sur'] = (df['x1']*A[0,1]*df['dx2'])\n",
    "df['Pi1NC']  = df['x1']*(A[0,0]*df['x1'] + A[0,1]*df['barx2'] + B[0,0])"
   ]
  },
  {
   "cell_type": "code",
   "execution_count": 29,
   "metadata": {
    "collapsed": false
   },
   "outputs": [],
   "source": [
    "df['V1'] = df['Pi1NC'] + (1 - df['beta'])*df['p1sur']\n",
    "df['V2'] = df['x2']*(A[1,0]*df['x1'] + A[1,1]*df['x2'] + B[1,0]) + df['beta']*(df['p1sur'])\n",
    "df['sw'] = df['V1'] + df['V2']"
   ]
  },
  {
   "cell_type": "code",
   "execution_count": 30,
   "metadata": {
    "collapsed": false
   },
   "outputs": [
    {
     "data": {
      "text/plain": [
       "<matplotlib.axes._subplots.AxesSubplot at 0x7f7936cef630>"
      ]
     },
     "execution_count": 30,
     "metadata": {},
     "output_type": "execute_result"
    },
    {
     "data": {
      "image/png": "[encoded data removed]",
      "text/plain": [
       "<matplotlib.figure.Figure at 0x7f7936e2da58>"
      ]
     },
     "metadata": {},
     "output_type": "display_data"
    }
   ],
   "source": [
    "df[['V1', 'V2', 'sw']].plot()"
   ]
  },
  {
   "cell_type": "code",
   "execution_count": 31,
   "metadata": {
    "collapsed": false
   },
   "outputs": [
    {
     "data": {
      "text/plain": [
       "<matplotlib.axes._subplots.AxesSubplot at 0x7f7936aa3630>"
      ]
     },
     "execution_count": 31,
     "metadata": {},
     "output_type": "execute_result"
    },
    {
     "data": {
      "image/png": "[encoded data removed]",
      "text/plain": [
       "<matplotlib.figure.Figure at 0x7f7936ab02b0>"
      ]
     },
     "metadata": {},
     "output_type": "display_data"
    }
   ],
   "source": [
    "df[['beta', 'dx2']].plot()"
   ]
  },
  {
   "cell_type": "code",
   "execution_count": 21,
   "metadata": {
    "collapsed": false
   },
   "outputs": [
    {
     "data": {
      "text/plain": [
       "<matplotlib.axes._subplots.AxesSubplot at 0x7f7936e0f208>"
      ]
     },
     "execution_count": 21,
     "metadata": {},
     "output_type": "execute_result"
    },
    {
     "data": {
      "image/png": "[encoded data removed]",
      "text/plain": [
       "<matplotlib.figure.Figure at 0x7f7936dd1550>"
      ]
     },
     "metadata": {},
     "output_type": "display_data"
    }
   ],
   "source": [
    "df['p1sur'].plot()"
   ]
  },
  {
   "cell_type": "code",
   "execution_count": 22,
   "metadata": {
    "collapsed": false
   },
   "outputs": [
    {
     "ename": "SyntaxError",
     "evalue": "invalid syntax (<ipython-input-22-e5de819d25cc>, line 1)",
     "output_type": "error",
     "traceback": [
      "\u001b[1;36m  File \u001b[1;32m\"<ipython-input-22-e5de819d25cc>\"\u001b[1;36m, line \u001b[1;32m1\u001b[0m\n\u001b[1;33m    print df[['V1', 'V2', 'sw', 'p1sur', 'beta', 'dx2', 'x2', 'x1']].tail(4)\u001b[0m\n\u001b[1;37m           ^\u001b[0m\n\u001b[1;31mSyntaxError\u001b[0m\u001b[1;31m:\u001b[0m invalid syntax\n"
     ]
    }
   ],
   "source": [
    "print df[['V1', 'V2', 'sw', 'p1sur', 'beta', 'dx2', 'x2', 'x1']].tail(4)"
   ]
  },
  {
   "cell_type": "code",
   "execution_count": null,
   "metadata": {
    "collapsed": true
   },
   "outputs": [],
   "source": []
  }
 ],
 "metadata": {
  "kernelspec": {
   "display_name": "Python 3",
   "language": "python",
   "name": "python3"
  },
  "language_info": {
   "codemirror_mode": {
    "name": "ipython",
    "version": 3
   },
   "file_extension": ".py",
   "mimetype": "text/x-python",
   "name": "python",
   "nbconvert_exporter": "python",
   "pygments_lexer": "ipython3",
   "version": "3.5.1"
  }
 },
 "nbformat": 4,
 "nbformat_minor": 0
}
