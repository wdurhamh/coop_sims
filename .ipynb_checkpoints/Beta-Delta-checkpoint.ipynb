{
 "cells": [
  {
   "cell_type": "code",
   "execution_count": 1,
   "metadata": {
    "collapsed": true
   },
   "outputs": [],
   "source": [
    "import pandas as pd\n",
    "import numpy as np\n",
    "import matplotlib.pyplot as plt\n",
    "\n",
    "%matplotlib inline"
   ]
  },
  {
   "cell_type": "code",
   "execution_count": null,
   "metadata": {
    "collapsed": true
   },
   "outputs": [],
   "source": [
    "\"\"\"\n",
    "    Define market with linear demand.\n",
    "    Market is characterized by demand function, which is characterized by A and b\n",
    "    Right now we assume a simplt to player market.\n",
    "\"\"\"\n",
    "n = 2\n",
    "A = np.array([[-3, -2],[-1, -3]]).reshape(n,n)\n",
    "b = np.array([6,6]).reshape(n,1)\n",
    "\n",
    "\"\"\"\n",
    "    Calculates profits for the market.\n",
    "    Assumes an n-dimensional price vector (np array) as input\n",
    "\"\"\"\n",
    "def profits(x):\n",
    "    return np.dot(A,x) + b"
   ]
  },
  {
   "cell_type": "code",
   "execution_count": null,
   "metadata": {
    "collapsed": true
   },
   "outputs": [],
   "source": [
    "\"\"\"\n",
    "    Describes the evolition of the system.\n",
    "    Here x1 and barx2 evolve by only looking at indiviudal profits\n",
    "    dx2 evolves to maximize difference between sidepayment and losses\n",
    "    beta evolves to with the loose assumption that deltax2 is at opitmum,\n",
    "        which allows for a single expression for (d dx2/d beta)\n",
    "\"\"\"\n",
    "def dynamics( x, t ):\n",
    "    "
   ]
  }
 ],
 "metadata": {
  "kernelspec": {
   "display_name": "Python 2",
   "language": "python",
   "name": "python2"
  },
  "language_info": {
   "codemirror_mode": {
    "name": "ipython",
    "version": 2
   },
   "file_extension": ".py",
   "mimetype": "text/x-python",
   "name": "python",
   "nbconvert_exporter": "python",
   "pygments_lexer": "ipython2",
   "version": "2.7.10"
  }
 },
 "nbformat": 4,
 "nbformat_minor": 0
}
