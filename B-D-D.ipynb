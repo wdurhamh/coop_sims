{
 "cells": [
  {
   "cell_type": "markdown",
   "metadata": {},
   "source": [
    "Beta-Delta-Delta Dynamics\n",
    "========================="
   ]
  },
  {
   "cell_type": "code",
   "execution_count": 1,
   "metadata": {
    "collapsed": false
   },
   "outputs": [],
   "source": [
    "import pandas as pd\n",
    "import numpy as np\n",
    "import matplotlib.pyplot as plt\n",
    "from scipy.integrate import odeint\n",
    "\n",
    "%matplotlib inline"
   ]
  },
  {
   "cell_type": "code",
   "execution_count": 2,
   "metadata": {
    "collapsed": false
   },
   "outputs": [],
   "source": [
    "\"\"\"\n",
    "    Define market with linear demand.\n",
    "    Market is characterized by demand function, which is characterized by A and b\n",
    "    Right now we assume a simplt to player market.\n",
    "\"\"\"\n",
    "n = 2\n",
    "A = np.matrix('-3 -2; -1, -3')\n",
    "B = np.matrix('6;6')"
   ]
  },
  {
   "cell_type": "code",
   "execution_count": 3,
   "metadata": {
    "collapsed": false
   },
   "outputs": [],
   "source": [
    "\"\"\"\n",
    "    Describes the evolition of the system.\n",
    "    Here x1 and barx2 evolve by only looking at indiviudal profits\n",
    "    dx2 evolves to maximize difference between sidepayment and losses.\n",
    "    beta evolves to with the loose assumption that deltax2 is at opitmum,\n",
    "        which allows for a single expression for (d dx2/d beta)\n",
    "    Vector order [barx1, barx2, dx1, dx2, beta]\n",
    "\"\"\"\n",
    "def dynamics( x, t ):\n",
    "    x = np.matrix(x).T\n",
    "    J = np.matrix('-6 -2 0 0 0; -1 -6 0 0 0')\n",
    "    x_dot = J*x + B\n",
    "\n",
    "    dx2_opt = ( x[4]*A[0,1]*(x[0] + x[2]) + (2*A[1,1]*x[1] + A[1,0]*(x[0] + x[2]) + B[1]) )/(-2*A[1,1])\n",
    "    beta_opt = (-(A[1,0]*(x[0] + x[2]) + 2*A[1,1]*x[1] + B[1])/(2*(x[0] + x[2] )*A[0,1])) + 0.5\n",
    "    #Simple x1 dynamics that do not take into account the effect of dx1 on dx2\n",
    "    #dx1_dot = (1-x[4])*x[3]*A[0,1] + (2*A[0,0]*(x[0] + x[2]) + A[0,1]*(x[1] + x[3]) + B[0] )\n",
    "    \n",
    "    #Complex dyanmics, which take into account effect of dx1 on dx2.\n",
    "    #when this effect is considered, the relationship between dv1 and dx1 is not linear or quadratic.\n",
    "    #If this dynamics don't behave nicely, considered aproximating relationship with quadratic\n",
    "    #(Series expansion)\n",
    "    \n",
    "    #WRONG\n",
    "    #Check that I've coded it up correctly [ ]\n",
    "    #Check that the math is correct [ ]\n",
    "    #If still wrong,aproximate with quadratic\n",
    "    temp1 = ( (1 - beta_opt)*(x[4]*A[0,1] + A[1,0])/(-2*A[1,1]) ) - dx2_opt*(2*A[1,1]*x[1] + B[1]) / (2*A[0,1]*(x[0] + x[2])**2)\n",
    "    temp2 = (1 - beta_opt)*dx2_opt*A[0,1] + temp1*(x[0] + x[2])*A[0,1]\n",
    "    dx1_dot = (2*A[0,0]*(x[0] + x[2]) + A[0,1]*(x[1] + x[3]) + B[0] ) + temp2\n",
    "    dx2_dot = x[4]*A[0,1]*(x[0] + x[2]) + (2*A[1,1]*(x[1] + x[3]) + A[1,0]*(x[0] + x[2]) + B[1] )\n",
    "    \n",
    "    #dx2_opt = 1\n",
    "    beta_dot = -1*((x[0]+x[2])*dx2_opt*A[0,1]) + ((A[0,1]*(x[0] + x[2]))**2)*(1-x[4])/(-2*A[1,1])\n",
    "    x_dot = x_dot.reshape(2,).tolist()[0]\n",
    "    \n",
    "    #multiplicative constant\n",
    "    c = 1.0\n",
    "    x_dot.append(c*dx1_dot[0,0])\n",
    "    x_dot.append(c*dx2_dot[0,0])\n",
    "    x_dot.append(c*beta_dot[0,0])\n",
    "    \n",
    "    #check limits (though I don't think these should be necessary)\n",
    "    #check that beta is between 0 and 1\n",
    "    if x[4] >= 1 and x_dot[4] > 0:\n",
    "        x_dot[4] = 0\n",
    "    if x[4] <= 0 and x_dot[4] < 0:\n",
    "        x_dot[4] = 0\n",
    "    #make sure delta is not greater than x2\n",
    "    #perhaps here we need to think of coeficients\n",
    "    #print x_dot, x\n",
    "    return x_dot"
   ]
  },
  {
   "cell_type": "code",
   "execution_count": 4,
   "metadata": {
    "collapsed": false
   },
   "outputs": [],
   "source": [
    "#x0 = [0,0,0,0,0]\n",
    "x0 = [12.0/17,15.0/17,0,0,0]\n",
    "\n",
    "t = np.linspace(0.0, 17, 14000)\n",
    "x = odeint(dynamics, x0, t)"
   ]
  },
  {
   "cell_type": "code",
   "execution_count": 5,
   "metadata": {
    "collapsed": false
   },
   "outputs": [
    {
     "data": {
      "text/plain": [
       "<matplotlib.axes._subplots.AxesSubplot at 0x7fd459887198>"
      ]
     },
     "execution_count": 5,
     "metadata": {},
     "output_type": "execute_result"
    },
    {
     "data": {
      "image/png": "[encoded data removed]",
      "text/plain": [
       "<matplotlib.figure.Figure at 0x7fd45988db70>"
      ]
     },
     "metadata": {},
     "output_type": "display_data"
    }
   ],
   "source": [
    "df = pd.DataFrame(x)\n",
    "df.columns = ['barx1', 'barx2', 'dx1', 'dx2', 'beta']\n",
    "df[['barx1', 'barx2']].plot()"
   ]
  },
  {
   "cell_type": "code",
   "execution_count": 6,
   "metadata": {
    "collapsed": false
   },
   "outputs": [],
   "source": [
    "df['x1'] = df['barx1'] + df['dx1']\n",
    "df['x2'] = df['barx2'] + df['dx2']\n",
    "df['p1sur'] = (df['x1']*A[0,1]*df['dx2'])\n",
    "df['Pi1NC']  = df['x1']*(A[0,0]*df['x1'] + A[0,1]*df['barx2'] + B[0,0])"
   ]
  },
  {
   "cell_type": "code",
   "execution_count": 7,
   "metadata": {
    "collapsed": false
   },
   "outputs": [],
   "source": [
    "df['V1'] = df['Pi1NC'] + (1 - df['beta'])*df['p1sur']\n",
    "df['V2'] = df['x2']*(A[1,0]*df['x1'] + A[1,1]*df['x2'] + B[1,0]) + df['beta']*(df['p1sur'])\n",
    "df['sw'] = df['V1'] + df['V2']"
   ]
  },
  {
   "cell_type": "code",
   "execution_count": 8,
   "metadata": {
    "collapsed": false
   },
   "outputs": [
    {
     "data": {
      "text/plain": [
       "<matplotlib.axes._subplots.AxesSubplot at 0x7fd4576b8780>"
      ]
     },
     "execution_count": 8,
     "metadata": {},
     "output_type": "execute_result"
    },
    {
     "data": {
      "image/png": "[encoded data removed]",
      "text/plain": [
       "<matplotlib.figure.Figure at 0x7fd45988d6a0>"
      ]
     },
     "metadata": {},
     "output_type": "display_data"
    }
   ],
   "source": [
    "df[['V1', 'V2', 'sw']].plot()"
   ]
  },
  {
   "cell_type": "code",
   "execution_count": 9,
   "metadata": {
    "collapsed": false
   },
   "outputs": [
    {
     "data": {
      "text/plain": [
       "<matplotlib.axes._subplots.AxesSubplot at 0x7fd45770f2e8>"
      ]
     },
     "execution_count": 9,
     "metadata": {},
     "output_type": "execute_result"
    },
    {
     "data": {
      "image/png": "[encoded data removed]",
      "text/plain": [
       "<matplotlib.figure.Figure at 0x7fd4575f3d30>"
      ]
     },
     "metadata": {},
     "output_type": "display_data"
    }
   ],
   "source": [
    "df[['beta', 'dx2']].plot()"
   ]
  },
  {
   "cell_type": "code",
   "execution_count": 10,
   "metadata": {
    "collapsed": false
   },
   "outputs": [
    {
     "data": {
      "text/plain": [
       "<matplotlib.axes._subplots.AxesSubplot at 0x7fd457559588>"
      ]
     },
     "execution_count": 10,
     "metadata": {},
     "output_type": "execute_result"
    },
    {
     "data": {
      "image/png": "[encoded data removed]",
      "text/plain": [
       "<matplotlib.figure.Figure at 0x7fd4575690b8>"
      ]
     },
     "metadata": {},
     "output_type": "display_data"
    }
   ],
   "source": [
    "df['p1sur'].plot()"
   ]
  },
  {
   "cell_type": "code",
   "execution_count": 11,
   "metadata": {
    "collapsed": false
   },
   "outputs": [
    {
     "data": {
      "text/html": [
       "<div>\n",
       "<table border=\"1\" class=\"dataframe\">\n",
       "  <thead>\n",
       "    <tr style=\"text-align: right;\">\n",
       "      <th></th>\n",
       "      <th>V1</th>\n",
       "      <th>V2</th>\n",
       "      <th>sw</th>\n",
       "      <th>p1sur</th>\n",
       "      <th>beta</th>\n",
       "      <th>dx1</th>\n",
       "      <th>dx2</th>\n",
       "      <th>x2</th>\n",
       "      <th>x1</th>\n",
       "    </tr>\n",
       "  </thead>\n",
       "  <tbody>\n",
       "    <tr>\n",
       "      <th>13996</th>\n",
       "      <td>1.576854</td>\n",
       "      <td>2.283825</td>\n",
       "      <td>3.860679</td>\n",
       "      <td>0.25623</td>\n",
       "      <td>0.459308</td>\n",
       "      <td>0.137231</td>\n",
       "      <td>-0.151955</td>\n",
       "      <td>0.730398</td>\n",
       "      <td>0.843113</td>\n",
       "    </tr>\n",
       "    <tr>\n",
       "      <th>13997</th>\n",
       "      <td>1.576854</td>\n",
       "      <td>2.283825</td>\n",
       "      <td>3.860679</td>\n",
       "      <td>0.25623</td>\n",
       "      <td>0.459308</td>\n",
       "      <td>0.137231</td>\n",
       "      <td>-0.151955</td>\n",
       "      <td>0.730398</td>\n",
       "      <td>0.843113</td>\n",
       "    </tr>\n",
       "    <tr>\n",
       "      <th>13998</th>\n",
       "      <td>1.576854</td>\n",
       "      <td>2.283825</td>\n",
       "      <td>3.860679</td>\n",
       "      <td>0.25623</td>\n",
       "      <td>0.459308</td>\n",
       "      <td>0.137231</td>\n",
       "      <td>-0.151955</td>\n",
       "      <td>0.730398</td>\n",
       "      <td>0.843113</td>\n",
       "    </tr>\n",
       "    <tr>\n",
       "      <th>13999</th>\n",
       "      <td>1.576854</td>\n",
       "      <td>2.283825</td>\n",
       "      <td>3.860679</td>\n",
       "      <td>0.25623</td>\n",
       "      <td>0.459308</td>\n",
       "      <td>0.137231</td>\n",
       "      <td>-0.151955</td>\n",
       "      <td>0.730398</td>\n",
       "      <td>0.843113</td>\n",
       "    </tr>\n",
       "  </tbody>\n",
       "</table>\n",
       "</div>"
      ],
      "text/plain": [
       "             V1        V2        sw    p1sur      beta       dx1       dx2  \\\n",
       "13996  1.576854  2.283825  3.860679  0.25623  0.459308  0.137231 -0.151955   \n",
       "13997  1.576854  2.283825  3.860679  0.25623  0.459308  0.137231 -0.151955   \n",
       "13998  1.576854  2.283825  3.860679  0.25623  0.459308  0.137231 -0.151955   \n",
       "13999  1.576854  2.283825  3.860679  0.25623  0.459308  0.137231 -0.151955   \n",
       "\n",
       "             x2        x1  \n",
       "13996  0.730398  0.843113  \n",
       "13997  0.730398  0.843113  \n",
       "13998  0.730398  0.843113  \n",
       "13999  0.730398  0.843113  "
      ]
     },
     "execution_count": 11,
     "metadata": {},
     "output_type": "execute_result"
    }
   ],
   "source": [
    "df[['V1', 'V2', 'sw', 'p1sur', 'beta', 'dx1', 'dx2', 'x2', 'x1']].tail(4)"
   ]
  },
  {
   "cell_type": "code",
   "execution_count": null,
   "metadata": {
    "collapsed": true
   },
   "outputs": [],
   "source": []
  }
 ],
 "metadata": {
  "kernelspec": {
   "display_name": "Python 3",
   "language": "python",
   "name": "python3"
  },
  "language_info": {
   "codemirror_mode": {
    "name": "ipython",
    "version": 3
   },
   "file_extension": ".py",
   "mimetype": "text/x-python",
   "name": "python",
   "nbconvert_exporter": "python",
   "pygments_lexer": "ipython3",
   "version": "3.5.1"
  }
 },
 "nbformat": 4,
 "nbformat_minor": 0
}
